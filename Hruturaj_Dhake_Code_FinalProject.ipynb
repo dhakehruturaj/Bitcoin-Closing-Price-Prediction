{
  "nbformat": 4,
  "nbformat_minor": 0,
  "metadata": {
    "colab": {
      "name": "Hruturaj_Dhake_Code_FinalProject.ipynb",
      "provenance": [],
      "collapsed_sections": []
    },
    "kernelspec": {
      "name": "python3",
      "display_name": "Python 3"
    },
    "language_info": {
      "name": "python"
    }
  },
  "cells": [
    {
      "cell_type": "markdown",
      "source": [
        "NAME - Hruturaj Dhake\n",
        "\n",
        "ROLL NO. - 19104"
      ],
      "metadata": {
        "id": "UogcvKcVvknC"
      }
    },
    {
      "cell_type": "markdown",
      "source": [
        "**BITCOIN CLOSING PRICE PREDICTION**\n",
        "\n",
        "by Manav Kundal(19185) and Hruturaj Dhake(19104)"
      ],
      "metadata": {
        "id": "3OHweSO3vziu"
      }
    },
    {
      "cell_type": "code",
      "execution_count": 1,
      "metadata": {
        "colab": {
          "base_uri": "https://localhost:8080/"
        },
        "id": "Id_g5vzscupv",
        "outputId": "92ed9c10-5670-44b0-9008-8514aebad2c5"
      },
      "outputs": [
        {
          "output_type": "stream",
          "name": "stdout",
          "text": [
            "Mounted at /content/drive\n"
          ]
        }
      ],
      "source": [
        "#Mounting Google Drive to access the dataset\n",
        "from google.colab import drive\n",
        "drive.mount('/content/drive')\n"
      ]
    },
    {
      "cell_type": "code",
      "source": [
        "import numpy as np\n",
        "import pandas as pd\n",
        "import seaborn as sns\n",
        "import matplotlib.pyplot as plt\n",
        "%matplotlib inline"
      ],
      "metadata": {
        "id": "Nb8_1_S7czOR"
      },
      "execution_count": 2,
      "outputs": []
    },
    {
      "cell_type": "code",
      "source": [
        "# reading dataset\n",
        "df = pd.read_csv('/content/drive/MyDrive/DSMLDATASET/train_data.csv')\n",
        "df_trainlabel = pd.read_csv('/content/drive/MyDrive/DSMLDATASET/train_label.csv')"
      ],
      "metadata": {
        "id": "z67n5wFVdkrW"
      },
      "execution_count": 3,
      "outputs": []
    },
    {
      "cell_type": "code",
      "source": [
        "#Trained data class labels\n",
        "df_trainlabel"
      ],
      "metadata": {
        "colab": {
          "base_uri": "https://localhost:8080/",
          "height": 423
        },
        "id": "Ti9fB1sVd9tm",
        "outputId": "acb5165d-dead-428f-e8fe-fb0cc6f786fd"
      },
      "execution_count": 4,
      "outputs": [
        {
          "output_type": "execute_result",
          "data": {
            "text/plain": [
              "           date     close\n",
              "0    2017-02-25   1158.00\n",
              "1    2017-12-28  14450.01\n",
              "2    2016-08-05    583.00\n",
              "3    2015-11-21    327.00\n",
              "4    2015-11-26    352.57\n",
              "..          ...       ...\n",
              "744  2016-01-29    378.68\n",
              "745  2015-08-02    282.62\n",
              "746  2017-10-08   4603.49\n",
              "747  2016-08-07    595.14\n",
              "748  2017-03-03   1292.86\n",
              "\n",
              "[749 rows x 2 columns]"
            ],
            "text/html": [
              "\n",
              "  <div id=\"df-62dd7f76-3047-484c-8050-76f6a881a744\">\n",
              "    <div class=\"colab-df-container\">\n",
              "      <div>\n",
              "<style scoped>\n",
              "    .dataframe tbody tr th:only-of-type {\n",
              "        vertical-align: middle;\n",
              "    }\n",
              "\n",
              "    .dataframe tbody tr th {\n",
              "        vertical-align: top;\n",
              "    }\n",
              "\n",
              "    .dataframe thead th {\n",
              "        text-align: right;\n",
              "    }\n",
              "</style>\n",
              "<table border=\"1\" class=\"dataframe\">\n",
              "  <thead>\n",
              "    <tr style=\"text-align: right;\">\n",
              "      <th></th>\n",
              "      <th>date</th>\n",
              "      <th>close</th>\n",
              "    </tr>\n",
              "  </thead>\n",
              "  <tbody>\n",
              "    <tr>\n",
              "      <th>0</th>\n",
              "      <td>2017-02-25</td>\n",
              "      <td>1158.00</td>\n",
              "    </tr>\n",
              "    <tr>\n",
              "      <th>1</th>\n",
              "      <td>2017-12-28</td>\n",
              "      <td>14450.01</td>\n",
              "    </tr>\n",
              "    <tr>\n",
              "      <th>2</th>\n",
              "      <td>2016-08-05</td>\n",
              "      <td>583.00</td>\n",
              "    </tr>\n",
              "    <tr>\n",
              "      <th>3</th>\n",
              "      <td>2015-11-21</td>\n",
              "      <td>327.00</td>\n",
              "    </tr>\n",
              "    <tr>\n",
              "      <th>4</th>\n",
              "      <td>2015-11-26</td>\n",
              "      <td>352.57</td>\n",
              "    </tr>\n",
              "    <tr>\n",
              "      <th>...</th>\n",
              "      <td>...</td>\n",
              "      <td>...</td>\n",
              "    </tr>\n",
              "    <tr>\n",
              "      <th>744</th>\n",
              "      <td>2016-01-29</td>\n",
              "      <td>378.68</td>\n",
              "    </tr>\n",
              "    <tr>\n",
              "      <th>745</th>\n",
              "      <td>2015-08-02</td>\n",
              "      <td>282.62</td>\n",
              "    </tr>\n",
              "    <tr>\n",
              "      <th>746</th>\n",
              "      <td>2017-10-08</td>\n",
              "      <td>4603.49</td>\n",
              "    </tr>\n",
              "    <tr>\n",
              "      <th>747</th>\n",
              "      <td>2016-08-07</td>\n",
              "      <td>595.14</td>\n",
              "    </tr>\n",
              "    <tr>\n",
              "      <th>748</th>\n",
              "      <td>2017-03-03</td>\n",
              "      <td>1292.86</td>\n",
              "    </tr>\n",
              "  </tbody>\n",
              "</table>\n",
              "<p>749 rows × 2 columns</p>\n",
              "</div>\n",
              "      <button class=\"colab-df-convert\" onclick=\"convertToInteractive('df-62dd7f76-3047-484c-8050-76f6a881a744')\"\n",
              "              title=\"Convert this dataframe to an interactive table.\"\n",
              "              style=\"display:none;\">\n",
              "        \n",
              "  <svg xmlns=\"http://www.w3.org/2000/svg\" height=\"24px\"viewBox=\"0 0 24 24\"\n",
              "       width=\"24px\">\n",
              "    <path d=\"M0 0h24v24H0V0z\" fill=\"none\"/>\n",
              "    <path d=\"M18.56 5.44l.94 2.06.94-2.06 2.06-.94-2.06-.94-.94-2.06-.94 2.06-2.06.94zm-11 1L8.5 8.5l.94-2.06 2.06-.94-2.06-.94L8.5 2.5l-.94 2.06-2.06.94zm10 10l.94 2.06.94-2.06 2.06-.94-2.06-.94-.94-2.06-.94 2.06-2.06.94z\"/><path d=\"M17.41 7.96l-1.37-1.37c-.4-.4-.92-.59-1.43-.59-.52 0-1.04.2-1.43.59L10.3 9.45l-7.72 7.72c-.78.78-.78 2.05 0 2.83L4 21.41c.39.39.9.59 1.41.59.51 0 1.02-.2 1.41-.59l7.78-7.78 2.81-2.81c.8-.78.8-2.07 0-2.86zM5.41 20L4 18.59l7.72-7.72 1.47 1.35L5.41 20z\"/>\n",
              "  </svg>\n",
              "      </button>\n",
              "      \n",
              "  <style>\n",
              "    .colab-df-container {\n",
              "      display:flex;\n",
              "      flex-wrap:wrap;\n",
              "      gap: 12px;\n",
              "    }\n",
              "\n",
              "    .colab-df-convert {\n",
              "      background-color: #E8F0FE;\n",
              "      border: none;\n",
              "      border-radius: 50%;\n",
              "      cursor: pointer;\n",
              "      display: none;\n",
              "      fill: #1967D2;\n",
              "      height: 32px;\n",
              "      padding: 0 0 0 0;\n",
              "      width: 32px;\n",
              "    }\n",
              "\n",
              "    .colab-df-convert:hover {\n",
              "      background-color: #E2EBFA;\n",
              "      box-shadow: 0px 1px 2px rgba(60, 64, 67, 0.3), 0px 1px 3px 1px rgba(60, 64, 67, 0.15);\n",
              "      fill: #174EA6;\n",
              "    }\n",
              "\n",
              "    [theme=dark] .colab-df-convert {\n",
              "      background-color: #3B4455;\n",
              "      fill: #D2E3FC;\n",
              "    }\n",
              "\n",
              "    [theme=dark] .colab-df-convert:hover {\n",
              "      background-color: #434B5C;\n",
              "      box-shadow: 0px 1px 3px 1px rgba(0, 0, 0, 0.15);\n",
              "      filter: drop-shadow(0px 1px 2px rgba(0, 0, 0, 0.3));\n",
              "      fill: #FFFFFF;\n",
              "    }\n",
              "  </style>\n",
              "\n",
              "      <script>\n",
              "        const buttonEl =\n",
              "          document.querySelector('#df-62dd7f76-3047-484c-8050-76f6a881a744 button.colab-df-convert');\n",
              "        buttonEl.style.display =\n",
              "          google.colab.kernel.accessAllowed ? 'block' : 'none';\n",
              "\n",
              "        async function convertToInteractive(key) {\n",
              "          const element = document.querySelector('#df-62dd7f76-3047-484c-8050-76f6a881a744');\n",
              "          const dataTable =\n",
              "            await google.colab.kernel.invokeFunction('convertToInteractive',\n",
              "                                                     [key], {});\n",
              "          if (!dataTable) return;\n",
              "\n",
              "          const docLinkHtml = 'Like what you see? Visit the ' +\n",
              "            '<a target=\"_blank\" href=https://colab.research.google.com/notebooks/data_table.ipynb>data table notebook</a>'\n",
              "            + ' to learn more about interactive tables.';\n",
              "          element.innerHTML = '';\n",
              "          dataTable['output_type'] = 'display_data';\n",
              "          await google.colab.output.renderOutput(dataTable, element);\n",
              "          const docLink = document.createElement('div');\n",
              "          docLink.innerHTML = docLinkHtml;\n",
              "          element.appendChild(docLink);\n",
              "        }\n",
              "      </script>\n",
              "    </div>\n",
              "  </div>\n",
              "  "
            ]
          },
          "metadata": {},
          "execution_count": 4
        }
      ]
    },
    {
      "cell_type": "code",
      "source": [
        "# renaming date column from train label\n",
        "df_trainlabel.rename(columns={'date': 'datetrain'}, inplace=True)\n",
        "df_trainlabel"
      ],
      "metadata": {
        "colab": {
          "base_uri": "https://localhost:8080/",
          "height": 423
        },
        "id": "AjfPaO_PeCbs",
        "outputId": "a6f27b6b-47c2-42dd-d0c9-4aa58977e061"
      },
      "execution_count": 5,
      "outputs": [
        {
          "output_type": "execute_result",
          "data": {
            "text/plain": [
              "      datetrain     close\n",
              "0    2017-02-25   1158.00\n",
              "1    2017-12-28  14450.01\n",
              "2    2016-08-05    583.00\n",
              "3    2015-11-21    327.00\n",
              "4    2015-11-26    352.57\n",
              "..          ...       ...\n",
              "744  2016-01-29    378.68\n",
              "745  2015-08-02    282.62\n",
              "746  2017-10-08   4603.49\n",
              "747  2016-08-07    595.14\n",
              "748  2017-03-03   1292.86\n",
              "\n",
              "[749 rows x 2 columns]"
            ],
            "text/html": [
              "\n",
              "  <div id=\"df-7bb378c5-785e-497e-ada8-4d6e7ca121ba\">\n",
              "    <div class=\"colab-df-container\">\n",
              "      <div>\n",
              "<style scoped>\n",
              "    .dataframe tbody tr th:only-of-type {\n",
              "        vertical-align: middle;\n",
              "    }\n",
              "\n",
              "    .dataframe tbody tr th {\n",
              "        vertical-align: top;\n",
              "    }\n",
              "\n",
              "    .dataframe thead th {\n",
              "        text-align: right;\n",
              "    }\n",
              "</style>\n",
              "<table border=\"1\" class=\"dataframe\">\n",
              "  <thead>\n",
              "    <tr style=\"text-align: right;\">\n",
              "      <th></th>\n",
              "      <th>datetrain</th>\n",
              "      <th>close</th>\n",
              "    </tr>\n",
              "  </thead>\n",
              "  <tbody>\n",
              "    <tr>\n",
              "      <th>0</th>\n",
              "      <td>2017-02-25</td>\n",
              "      <td>1158.00</td>\n",
              "    </tr>\n",
              "    <tr>\n",
              "      <th>1</th>\n",
              "      <td>2017-12-28</td>\n",
              "      <td>14450.01</td>\n",
              "    </tr>\n",
              "    <tr>\n",
              "      <th>2</th>\n",
              "      <td>2016-08-05</td>\n",
              "      <td>583.00</td>\n",
              "    </tr>\n",
              "    <tr>\n",
              "      <th>3</th>\n",
              "      <td>2015-11-21</td>\n",
              "      <td>327.00</td>\n",
              "    </tr>\n",
              "    <tr>\n",
              "      <th>4</th>\n",
              "      <td>2015-11-26</td>\n",
              "      <td>352.57</td>\n",
              "    </tr>\n",
              "    <tr>\n",
              "      <th>...</th>\n",
              "      <td>...</td>\n",
              "      <td>...</td>\n",
              "    </tr>\n",
              "    <tr>\n",
              "      <th>744</th>\n",
              "      <td>2016-01-29</td>\n",
              "      <td>378.68</td>\n",
              "    </tr>\n",
              "    <tr>\n",
              "      <th>745</th>\n",
              "      <td>2015-08-02</td>\n",
              "      <td>282.62</td>\n",
              "    </tr>\n",
              "    <tr>\n",
              "      <th>746</th>\n",
              "      <td>2017-10-08</td>\n",
              "      <td>4603.49</td>\n",
              "    </tr>\n",
              "    <tr>\n",
              "      <th>747</th>\n",
              "      <td>2016-08-07</td>\n",
              "      <td>595.14</td>\n",
              "    </tr>\n",
              "    <tr>\n",
              "      <th>748</th>\n",
              "      <td>2017-03-03</td>\n",
              "      <td>1292.86</td>\n",
              "    </tr>\n",
              "  </tbody>\n",
              "</table>\n",
              "<p>749 rows × 2 columns</p>\n",
              "</div>\n",
              "      <button class=\"colab-df-convert\" onclick=\"convertToInteractive('df-7bb378c5-785e-497e-ada8-4d6e7ca121ba')\"\n",
              "              title=\"Convert this dataframe to an interactive table.\"\n",
              "              style=\"display:none;\">\n",
              "        \n",
              "  <svg xmlns=\"http://www.w3.org/2000/svg\" height=\"24px\"viewBox=\"0 0 24 24\"\n",
              "       width=\"24px\">\n",
              "    <path d=\"M0 0h24v24H0V0z\" fill=\"none\"/>\n",
              "    <path d=\"M18.56 5.44l.94 2.06.94-2.06 2.06-.94-2.06-.94-.94-2.06-.94 2.06-2.06.94zm-11 1L8.5 8.5l.94-2.06 2.06-.94-2.06-.94L8.5 2.5l-.94 2.06-2.06.94zm10 10l.94 2.06.94-2.06 2.06-.94-2.06-.94-.94-2.06-.94 2.06-2.06.94z\"/><path d=\"M17.41 7.96l-1.37-1.37c-.4-.4-.92-.59-1.43-.59-.52 0-1.04.2-1.43.59L10.3 9.45l-7.72 7.72c-.78.78-.78 2.05 0 2.83L4 21.41c.39.39.9.59 1.41.59.51 0 1.02-.2 1.41-.59l7.78-7.78 2.81-2.81c.8-.78.8-2.07 0-2.86zM5.41 20L4 18.59l7.72-7.72 1.47 1.35L5.41 20z\"/>\n",
              "  </svg>\n",
              "      </button>\n",
              "      \n",
              "  <style>\n",
              "    .colab-df-container {\n",
              "      display:flex;\n",
              "      flex-wrap:wrap;\n",
              "      gap: 12px;\n",
              "    }\n",
              "\n",
              "    .colab-df-convert {\n",
              "      background-color: #E8F0FE;\n",
              "      border: none;\n",
              "      border-radius: 50%;\n",
              "      cursor: pointer;\n",
              "      display: none;\n",
              "      fill: #1967D2;\n",
              "      height: 32px;\n",
              "      padding: 0 0 0 0;\n",
              "      width: 32px;\n",
              "    }\n",
              "\n",
              "    .colab-df-convert:hover {\n",
              "      background-color: #E2EBFA;\n",
              "      box-shadow: 0px 1px 2px rgba(60, 64, 67, 0.3), 0px 1px 3px 1px rgba(60, 64, 67, 0.15);\n",
              "      fill: #174EA6;\n",
              "    }\n",
              "\n",
              "    [theme=dark] .colab-df-convert {\n",
              "      background-color: #3B4455;\n",
              "      fill: #D2E3FC;\n",
              "    }\n",
              "\n",
              "    [theme=dark] .colab-df-convert:hover {\n",
              "      background-color: #434B5C;\n",
              "      box-shadow: 0px 1px 3px 1px rgba(0, 0, 0, 0.15);\n",
              "      filter: drop-shadow(0px 1px 2px rgba(0, 0, 0, 0.3));\n",
              "      fill: #FFFFFF;\n",
              "    }\n",
              "  </style>\n",
              "\n",
              "      <script>\n",
              "        const buttonEl =\n",
              "          document.querySelector('#df-7bb378c5-785e-497e-ada8-4d6e7ca121ba button.colab-df-convert');\n",
              "        buttonEl.style.display =\n",
              "          google.colab.kernel.accessAllowed ? 'block' : 'none';\n",
              "\n",
              "        async function convertToInteractive(key) {\n",
              "          const element = document.querySelector('#df-7bb378c5-785e-497e-ada8-4d6e7ca121ba');\n",
              "          const dataTable =\n",
              "            await google.colab.kernel.invokeFunction('convertToInteractive',\n",
              "                                                     [key], {});\n",
              "          if (!dataTable) return;\n",
              "\n",
              "          const docLinkHtml = 'Like what you see? Visit the ' +\n",
              "            '<a target=\"_blank\" href=https://colab.research.google.com/notebooks/data_table.ipynb>data table notebook</a>'\n",
              "            + ' to learn more about interactive tables.';\n",
              "          element.innerHTML = '';\n",
              "          dataTable['output_type'] = 'display_data';\n",
              "          await google.colab.output.renderOutput(dataTable, element);\n",
              "          const docLink = document.createElement('div');\n",
              "          docLink.innerHTML = docLinkHtml;\n",
              "          element.appendChild(docLink);\n",
              "        }\n",
              "      </script>\n",
              "    </div>\n",
              "  </div>\n",
              "  "
            ]
          },
          "metadata": {},
          "execution_count": 5
        }
      ]
    },
    {
      "cell_type": "code",
      "source": [
        "#Merging Training data and Training data class labels\n",
        "\n",
        "b = pd.concat([df,df_trainlabel], axis = 1)\n",
        "print(b)"
      ],
      "metadata": {
        "colab": {
          "base_uri": "https://localhost:8080/"
        },
        "id": "qNLAsYoTeMVv",
        "outputId": "64802052-1026-4e98-96f0-c55023da6727"
      },
      "execution_count": 6,
      "outputs": [
        {
          "output_type": "stream",
          "name": "stdout",
          "text": [
            "           date            ts            wp        hi        lo      open  \\\n",
            "0    2017-02-25  1.487981e+09   1172.382511   1189.49   1110.00   1186.91   \n",
            "1    2017-12-28  1.514419e+09  14292.860031  15489.00  13500.00  15360.01   \n",
            "2    2016-08-05  1.470355e+09    579.201128    592.87    570.39    587.50   \n",
            "3    2015-11-21  1.448064e+09    324.774137    328.00    316.33    322.39   \n",
            "4    2015-11-26  1.448496e+09    342.988280    368.18    328.98    328.99   \n",
            "..          ...           ...           ...       ...       ...       ...   \n",
            "744  2016-01-29  1.454026e+09    376.906500    385.05    363.25    379.63   \n",
            "745  2015-08-02  1.438474e+09    280.488208    282.62    277.33    281.90   \n",
            "746  2017-10-08  1.507421e+09   4501.692441   4612.00   4420.01   4425.00   \n",
            "747  2016-08-07  1.470528e+09    594.310253    598.65    587.20    591.70   \n",
            "748  2017-03-03  1.488499e+09   1278.979821   1294.99   1255.61   1269.17   \n",
            "\n",
            "      datetrain     close  \n",
            "0    2017-02-25   1158.00  \n",
            "1    2017-12-28  14450.01  \n",
            "2    2016-08-05    583.00  \n",
            "3    2015-11-21    327.00  \n",
            "4    2015-11-26    352.57  \n",
            "..          ...       ...  \n",
            "744  2016-01-29    378.68  \n",
            "745  2015-08-02    282.62  \n",
            "746  2017-10-08   4603.49  \n",
            "747  2016-08-07    595.14  \n",
            "748  2017-03-03   1292.86  \n",
            "\n",
            "[749 rows x 8 columns]\n"
          ]
        }
      ]
    },
    {
      "cell_type": "code",
      "source": [
        "b.head(20)"
      ],
      "metadata": {
        "colab": {
          "base_uri": "https://localhost:8080/",
          "height": 1000
        },
        "id": "I4phVd94eRnZ",
        "outputId": "3ed7ec57-18f9-4ab4-8528-6496bc70dd44"
      },
      "execution_count": 7,
      "outputs": [
        {
          "output_type": "execute_result",
          "data": {
            "text/plain": [
              "          date            ts            wp        hi        lo      open  \\\n",
              "0   2017-02-25  1.487981e+09   1172.382511   1189.49   1110.00   1186.91   \n",
              "1   2017-12-28  1.514419e+09  14292.860031  15489.00  13500.00  15360.01   \n",
              "2   2016-08-05  1.470355e+09    579.201128    592.87    570.39    587.50   \n",
              "3   2015-11-21  1.448064e+09    324.774137    328.00    316.33    322.39   \n",
              "4   2015-11-26  1.448496e+09    342.988280    368.18    328.98    328.99   \n",
              "5   2017-09-05  1.504570e+09   4394.633379   4514.95   4242.38   4498.46   \n",
              "6   2015-05-10  1.431216e+09    242.224549    244.89    239.63    242.59   \n",
              "7   2017-05-08  1.494202e+09   1640.811810   1713.00   1608.00   1611.10   \n",
              "8   2015-10-20  1.445299e+09    267.869901    272.95    264.38    264.91   \n",
              "9   2017-09-04  1.504483e+09   4483.935289   4628.05   4234.16   4626.05   \n",
              "10  2015-10-24  1.445645e+09    281.035435    284.49    278.75    278.76   \n",
              "11  2016-10-29  1.477699e+09    708.632281    725.64    689.39    689.95   \n",
              "12  2016-12-16  1.481846e+09    780.094099    785.00    774.80    776.16   \n",
              "13  2017-02-07  1.486426e+09   1043.683954   1058.26   1021.75   1022.91   \n",
              "14  2015-09-21  1.442794e+09    228.965564    233.64    226.87    232.26   \n",
              "15  2015-05-20  1.432080e+09    233.884104    235.00    232.54    232.58   \n",
              "16  2017-04-08  1.491610e+09   1188.590103   1198.00   1170.00   1194.00   \n",
              "17  2017-09-09  1.504915e+09   4336.064500   4449.95   4180.00   4350.00   \n",
              "18  2017-06-30  1.498781e+09   2513.160083   2554.01   2446.20   2531.16   \n",
              "19  2016-10-18  1.476749e+09    637.614250    640.00    632.15    639.56   \n",
              "\n",
              "     datetrain     close  \n",
              "0   2017-02-25   1158.00  \n",
              "1   2017-12-28  14450.01  \n",
              "2   2016-08-05    583.00  \n",
              "3   2015-11-21    327.00  \n",
              "4   2015-11-26    352.57  \n",
              "5   2017-09-05   4432.51  \n",
              "6   2015-05-10    241.57  \n",
              "7   2017-05-08   1713.00  \n",
              "8   2015-10-20    271.14  \n",
              "9   2017-09-04   4498.25  \n",
              "10  2015-10-24    284.29  \n",
              "11  2016-10-29    714.28  \n",
              "12  2016-12-16    780.98  \n",
              "13  2017-02-07   1053.96  \n",
              "14  2015-09-21    227.31  \n",
              "15  2015-05-20    234.54  \n",
              "16  2017-04-08   1184.50  \n",
              "17  2017-09-09   4334.36  \n",
              "18  2017-06-30   2455.19  \n",
              "19  2016-10-18    635.11  "
            ],
            "text/html": [
              "\n",
              "  <div id=\"df-93cc7928-3564-4b33-8db2-03592f06705a\">\n",
              "    <div class=\"colab-df-container\">\n",
              "      <div>\n",
              "<style scoped>\n",
              "    .dataframe tbody tr th:only-of-type {\n",
              "        vertical-align: middle;\n",
              "    }\n",
              "\n",
              "    .dataframe tbody tr th {\n",
              "        vertical-align: top;\n",
              "    }\n",
              "\n",
              "    .dataframe thead th {\n",
              "        text-align: right;\n",
              "    }\n",
              "</style>\n",
              "<table border=\"1\" class=\"dataframe\">\n",
              "  <thead>\n",
              "    <tr style=\"text-align: right;\">\n",
              "      <th></th>\n",
              "      <th>date</th>\n",
              "      <th>ts</th>\n",
              "      <th>wp</th>\n",
              "      <th>hi</th>\n",
              "      <th>lo</th>\n",
              "      <th>open</th>\n",
              "      <th>datetrain</th>\n",
              "      <th>close</th>\n",
              "    </tr>\n",
              "  </thead>\n",
              "  <tbody>\n",
              "    <tr>\n",
              "      <th>0</th>\n",
              "      <td>2017-02-25</td>\n",
              "      <td>1.487981e+09</td>\n",
              "      <td>1172.382511</td>\n",
              "      <td>1189.49</td>\n",
              "      <td>1110.00</td>\n",
              "      <td>1186.91</td>\n",
              "      <td>2017-02-25</td>\n",
              "      <td>1158.00</td>\n",
              "    </tr>\n",
              "    <tr>\n",
              "      <th>1</th>\n",
              "      <td>2017-12-28</td>\n",
              "      <td>1.514419e+09</td>\n",
              "      <td>14292.860031</td>\n",
              "      <td>15489.00</td>\n",
              "      <td>13500.00</td>\n",
              "      <td>15360.01</td>\n",
              "      <td>2017-12-28</td>\n",
              "      <td>14450.01</td>\n",
              "    </tr>\n",
              "    <tr>\n",
              "      <th>2</th>\n",
              "      <td>2016-08-05</td>\n",
              "      <td>1.470355e+09</td>\n",
              "      <td>579.201128</td>\n",
              "      <td>592.87</td>\n",
              "      <td>570.39</td>\n",
              "      <td>587.50</td>\n",
              "      <td>2016-08-05</td>\n",
              "      <td>583.00</td>\n",
              "    </tr>\n",
              "    <tr>\n",
              "      <th>3</th>\n",
              "      <td>2015-11-21</td>\n",
              "      <td>1.448064e+09</td>\n",
              "      <td>324.774137</td>\n",
              "      <td>328.00</td>\n",
              "      <td>316.33</td>\n",
              "      <td>322.39</td>\n",
              "      <td>2015-11-21</td>\n",
              "      <td>327.00</td>\n",
              "    </tr>\n",
              "    <tr>\n",
              "      <th>4</th>\n",
              "      <td>2015-11-26</td>\n",
              "      <td>1.448496e+09</td>\n",
              "      <td>342.988280</td>\n",
              "      <td>368.18</td>\n",
              "      <td>328.98</td>\n",
              "      <td>328.99</td>\n",
              "      <td>2015-11-26</td>\n",
              "      <td>352.57</td>\n",
              "    </tr>\n",
              "    <tr>\n",
              "      <th>5</th>\n",
              "      <td>2017-09-05</td>\n",
              "      <td>1.504570e+09</td>\n",
              "      <td>4394.633379</td>\n",
              "      <td>4514.95</td>\n",
              "      <td>4242.38</td>\n",
              "      <td>4498.46</td>\n",
              "      <td>2017-09-05</td>\n",
              "      <td>4432.51</td>\n",
              "    </tr>\n",
              "    <tr>\n",
              "      <th>6</th>\n",
              "      <td>2015-05-10</td>\n",
              "      <td>1.431216e+09</td>\n",
              "      <td>242.224549</td>\n",
              "      <td>244.89</td>\n",
              "      <td>239.63</td>\n",
              "      <td>242.59</td>\n",
              "      <td>2015-05-10</td>\n",
              "      <td>241.57</td>\n",
              "    </tr>\n",
              "    <tr>\n",
              "      <th>7</th>\n",
              "      <td>2017-05-08</td>\n",
              "      <td>1.494202e+09</td>\n",
              "      <td>1640.811810</td>\n",
              "      <td>1713.00</td>\n",
              "      <td>1608.00</td>\n",
              "      <td>1611.10</td>\n",
              "      <td>2017-05-08</td>\n",
              "      <td>1713.00</td>\n",
              "    </tr>\n",
              "    <tr>\n",
              "      <th>8</th>\n",
              "      <td>2015-10-20</td>\n",
              "      <td>1.445299e+09</td>\n",
              "      <td>267.869901</td>\n",
              "      <td>272.95</td>\n",
              "      <td>264.38</td>\n",
              "      <td>264.91</td>\n",
              "      <td>2015-10-20</td>\n",
              "      <td>271.14</td>\n",
              "    </tr>\n",
              "    <tr>\n",
              "      <th>9</th>\n",
              "      <td>2017-09-04</td>\n",
              "      <td>1.504483e+09</td>\n",
              "      <td>4483.935289</td>\n",
              "      <td>4628.05</td>\n",
              "      <td>4234.16</td>\n",
              "      <td>4626.05</td>\n",
              "      <td>2017-09-04</td>\n",
              "      <td>4498.25</td>\n",
              "    </tr>\n",
              "    <tr>\n",
              "      <th>10</th>\n",
              "      <td>2015-10-24</td>\n",
              "      <td>1.445645e+09</td>\n",
              "      <td>281.035435</td>\n",
              "      <td>284.49</td>\n",
              "      <td>278.75</td>\n",
              "      <td>278.76</td>\n",
              "      <td>2015-10-24</td>\n",
              "      <td>284.29</td>\n",
              "    </tr>\n",
              "    <tr>\n",
              "      <th>11</th>\n",
              "      <td>2016-10-29</td>\n",
              "      <td>1.477699e+09</td>\n",
              "      <td>708.632281</td>\n",
              "      <td>725.64</td>\n",
              "      <td>689.39</td>\n",
              "      <td>689.95</td>\n",
              "      <td>2016-10-29</td>\n",
              "      <td>714.28</td>\n",
              "    </tr>\n",
              "    <tr>\n",
              "      <th>12</th>\n",
              "      <td>2016-12-16</td>\n",
              "      <td>1.481846e+09</td>\n",
              "      <td>780.094099</td>\n",
              "      <td>785.00</td>\n",
              "      <td>774.80</td>\n",
              "      <td>776.16</td>\n",
              "      <td>2016-12-16</td>\n",
              "      <td>780.98</td>\n",
              "    </tr>\n",
              "    <tr>\n",
              "      <th>13</th>\n",
              "      <td>2017-02-07</td>\n",
              "      <td>1.486426e+09</td>\n",
              "      <td>1043.683954</td>\n",
              "      <td>1058.26</td>\n",
              "      <td>1021.75</td>\n",
              "      <td>1022.91</td>\n",
              "      <td>2017-02-07</td>\n",
              "      <td>1053.96</td>\n",
              "    </tr>\n",
              "    <tr>\n",
              "      <th>14</th>\n",
              "      <td>2015-09-21</td>\n",
              "      <td>1.442794e+09</td>\n",
              "      <td>228.965564</td>\n",
              "      <td>233.64</td>\n",
              "      <td>226.87</td>\n",
              "      <td>232.26</td>\n",
              "      <td>2015-09-21</td>\n",
              "      <td>227.31</td>\n",
              "    </tr>\n",
              "    <tr>\n",
              "      <th>15</th>\n",
              "      <td>2015-05-20</td>\n",
              "      <td>1.432080e+09</td>\n",
              "      <td>233.884104</td>\n",
              "      <td>235.00</td>\n",
              "      <td>232.54</td>\n",
              "      <td>232.58</td>\n",
              "      <td>2015-05-20</td>\n",
              "      <td>234.54</td>\n",
              "    </tr>\n",
              "    <tr>\n",
              "      <th>16</th>\n",
              "      <td>2017-04-08</td>\n",
              "      <td>1.491610e+09</td>\n",
              "      <td>1188.590103</td>\n",
              "      <td>1198.00</td>\n",
              "      <td>1170.00</td>\n",
              "      <td>1194.00</td>\n",
              "      <td>2017-04-08</td>\n",
              "      <td>1184.50</td>\n",
              "    </tr>\n",
              "    <tr>\n",
              "      <th>17</th>\n",
              "      <td>2017-09-09</td>\n",
              "      <td>1.504915e+09</td>\n",
              "      <td>4336.064500</td>\n",
              "      <td>4449.95</td>\n",
              "      <td>4180.00</td>\n",
              "      <td>4350.00</td>\n",
              "      <td>2017-09-09</td>\n",
              "      <td>4334.36</td>\n",
              "    </tr>\n",
              "    <tr>\n",
              "      <th>18</th>\n",
              "      <td>2017-06-30</td>\n",
              "      <td>1.498781e+09</td>\n",
              "      <td>2513.160083</td>\n",
              "      <td>2554.01</td>\n",
              "      <td>2446.20</td>\n",
              "      <td>2531.16</td>\n",
              "      <td>2017-06-30</td>\n",
              "      <td>2455.19</td>\n",
              "    </tr>\n",
              "    <tr>\n",
              "      <th>19</th>\n",
              "      <td>2016-10-18</td>\n",
              "      <td>1.476749e+09</td>\n",
              "      <td>637.614250</td>\n",
              "      <td>640.00</td>\n",
              "      <td>632.15</td>\n",
              "      <td>639.56</td>\n",
              "      <td>2016-10-18</td>\n",
              "      <td>635.11</td>\n",
              "    </tr>\n",
              "  </tbody>\n",
              "</table>\n",
              "</div>\n",
              "      <button class=\"colab-df-convert\" onclick=\"convertToInteractive('df-93cc7928-3564-4b33-8db2-03592f06705a')\"\n",
              "              title=\"Convert this dataframe to an interactive table.\"\n",
              "              style=\"display:none;\">\n",
              "        \n",
              "  <svg xmlns=\"http://www.w3.org/2000/svg\" height=\"24px\"viewBox=\"0 0 24 24\"\n",
              "       width=\"24px\">\n",
              "    <path d=\"M0 0h24v24H0V0z\" fill=\"none\"/>\n",
              "    <path d=\"M18.56 5.44l.94 2.06.94-2.06 2.06-.94-2.06-.94-.94-2.06-.94 2.06-2.06.94zm-11 1L8.5 8.5l.94-2.06 2.06-.94-2.06-.94L8.5 2.5l-.94 2.06-2.06.94zm10 10l.94 2.06.94-2.06 2.06-.94-2.06-.94-.94-2.06-.94 2.06-2.06.94z\"/><path d=\"M17.41 7.96l-1.37-1.37c-.4-.4-.92-.59-1.43-.59-.52 0-1.04.2-1.43.59L10.3 9.45l-7.72 7.72c-.78.78-.78 2.05 0 2.83L4 21.41c.39.39.9.59 1.41.59.51 0 1.02-.2 1.41-.59l7.78-7.78 2.81-2.81c.8-.78.8-2.07 0-2.86zM5.41 20L4 18.59l7.72-7.72 1.47 1.35L5.41 20z\"/>\n",
              "  </svg>\n",
              "      </button>\n",
              "      \n",
              "  <style>\n",
              "    .colab-df-container {\n",
              "      display:flex;\n",
              "      flex-wrap:wrap;\n",
              "      gap: 12px;\n",
              "    }\n",
              "\n",
              "    .colab-df-convert {\n",
              "      background-color: #E8F0FE;\n",
              "      border: none;\n",
              "      border-radius: 50%;\n",
              "      cursor: pointer;\n",
              "      display: none;\n",
              "      fill: #1967D2;\n",
              "      height: 32px;\n",
              "      padding: 0 0 0 0;\n",
              "      width: 32px;\n",
              "    }\n",
              "\n",
              "    .colab-df-convert:hover {\n",
              "      background-color: #E2EBFA;\n",
              "      box-shadow: 0px 1px 2px rgba(60, 64, 67, 0.3), 0px 1px 3px 1px rgba(60, 64, 67, 0.15);\n",
              "      fill: #174EA6;\n",
              "    }\n",
              "\n",
              "    [theme=dark] .colab-df-convert {\n",
              "      background-color: #3B4455;\n",
              "      fill: #D2E3FC;\n",
              "    }\n",
              "\n",
              "    [theme=dark] .colab-df-convert:hover {\n",
              "      background-color: #434B5C;\n",
              "      box-shadow: 0px 1px 3px 1px rgba(0, 0, 0, 0.15);\n",
              "      filter: drop-shadow(0px 1px 2px rgba(0, 0, 0, 0.3));\n",
              "      fill: #FFFFFF;\n",
              "    }\n",
              "  </style>\n",
              "\n",
              "      <script>\n",
              "        const buttonEl =\n",
              "          document.querySelector('#df-93cc7928-3564-4b33-8db2-03592f06705a button.colab-df-convert');\n",
              "        buttonEl.style.display =\n",
              "          google.colab.kernel.accessAllowed ? 'block' : 'none';\n",
              "\n",
              "        async function convertToInteractive(key) {\n",
              "          const element = document.querySelector('#df-93cc7928-3564-4b33-8db2-03592f06705a');\n",
              "          const dataTable =\n",
              "            await google.colab.kernel.invokeFunction('convertToInteractive',\n",
              "                                                     [key], {});\n",
              "          if (!dataTable) return;\n",
              "\n",
              "          const docLinkHtml = 'Like what you see? Visit the ' +\n",
              "            '<a target=\"_blank\" href=https://colab.research.google.com/notebooks/data_table.ipynb>data table notebook</a>'\n",
              "            + ' to learn more about interactive tables.';\n",
              "          element.innerHTML = '';\n",
              "          dataTable['output_type'] = 'display_data';\n",
              "          await google.colab.output.renderOutput(dataTable, element);\n",
              "          const docLink = document.createElement('div');\n",
              "          docLink.innerHTML = docLinkHtml;\n",
              "          element.appendChild(docLink);\n",
              "        }\n",
              "      </script>\n",
              "    </div>\n",
              "  </div>\n",
              "  "
            ]
          },
          "metadata": {},
          "execution_count": 7
        }
      ]
    },
    {
      "cell_type": "code",
      "source": [
        "#sorting data in ascending order with respect to time stamp\n",
        "df_sort = b.sort_values(by=['ts'],ascending = True)"
      ],
      "metadata": {
        "id": "1Cj-arxoeWTI"
      },
      "execution_count": 8,
      "outputs": []
    },
    {
      "cell_type": "code",
      "source": [
        "df_sort"
      ],
      "metadata": {
        "colab": {
          "base_uri": "https://localhost:8080/",
          "height": 661
        },
        "id": "sri8LH3webEl",
        "outputId": "d8fccc90-a265-4eed-a0ec-12f6313a383a"
      },
      "execution_count": 9,
      "outputs": [
        {
          "output_type": "execute_result",
          "data": {
            "text/plain": [
              "           date            ts            wp        hi        lo      open  \\\n",
              "696  2015-04-15  1.429056e+09    222.270771    224.52    218.09    221.05   \n",
              "185  2015-04-16  1.429142e+09    227.779413    230.75    223.66    224.35   \n",
              "287  2015-04-18  1.429315e+09    223.398170    224.04    222.18    223.55   \n",
              "647  2015-04-19  1.429402e+09    224.667792    226.72    223.44    224.02   \n",
              "280  2015-04-21  1.429574e+09    227.170562    235.89    224.01    225.35   \n",
              "..          ...           ...           ...       ...       ...       ...   \n",
              "739  2017-12-31  1.514678e+09  13386.497711  14280.26  12633.80  12839.98   \n",
              "571  2018-01-01  1.514765e+09  13425.054178  13889.00  12952.50  13863.14   \n",
              "450  2018-01-03  1.514938e+09  14989.939350  15400.00  14628.00  14781.52   \n",
              "367  2018-01-04  1.515024e+09  14851.477880  15400.00  14230.00  15098.23   \n",
              "35   2018-01-07  1.515283e+09  16526.973583  17115.01  15755.01  17099.00   \n",
              "\n",
              "      datetrain     close  \n",
              "696  2015-04-15    224.35  \n",
              "185  2015-04-16    229.45  \n",
              "287  2015-04-18    224.02  \n",
              "647  2015-04-19    224.03  \n",
              "280  2015-04-21    235.89  \n",
              "..          ...       ...  \n",
              "739  2017-12-31  13863.13  \n",
              "571  2018-01-01  13480.01  \n",
              "450  2018-01-03  15098.14  \n",
              "367  2018-01-04  15144.99  \n",
              "35   2018-01-07  16174.22  \n",
              "\n",
              "[749 rows x 8 columns]"
            ],
            "text/html": [
              "\n",
              "  <div id=\"df-bf74021f-29d1-46e0-b3e2-6ebd4e62b966\">\n",
              "    <div class=\"colab-df-container\">\n",
              "      <div>\n",
              "<style scoped>\n",
              "    .dataframe tbody tr th:only-of-type {\n",
              "        vertical-align: middle;\n",
              "    }\n",
              "\n",
              "    .dataframe tbody tr th {\n",
              "        vertical-align: top;\n",
              "    }\n",
              "\n",
              "    .dataframe thead th {\n",
              "        text-align: right;\n",
              "    }\n",
              "</style>\n",
              "<table border=\"1\" class=\"dataframe\">\n",
              "  <thead>\n",
              "    <tr style=\"text-align: right;\">\n",
              "      <th></th>\n",
              "      <th>date</th>\n",
              "      <th>ts</th>\n",
              "      <th>wp</th>\n",
              "      <th>hi</th>\n",
              "      <th>lo</th>\n",
              "      <th>open</th>\n",
              "      <th>datetrain</th>\n",
              "      <th>close</th>\n",
              "    </tr>\n",
              "  </thead>\n",
              "  <tbody>\n",
              "    <tr>\n",
              "      <th>696</th>\n",
              "      <td>2015-04-15</td>\n",
              "      <td>1.429056e+09</td>\n",
              "      <td>222.270771</td>\n",
              "      <td>224.52</td>\n",
              "      <td>218.09</td>\n",
              "      <td>221.05</td>\n",
              "      <td>2015-04-15</td>\n",
              "      <td>224.35</td>\n",
              "    </tr>\n",
              "    <tr>\n",
              "      <th>185</th>\n",
              "      <td>2015-04-16</td>\n",
              "      <td>1.429142e+09</td>\n",
              "      <td>227.779413</td>\n",
              "      <td>230.75</td>\n",
              "      <td>223.66</td>\n",
              "      <td>224.35</td>\n",
              "      <td>2015-04-16</td>\n",
              "      <td>229.45</td>\n",
              "    </tr>\n",
              "    <tr>\n",
              "      <th>287</th>\n",
              "      <td>2015-04-18</td>\n",
              "      <td>1.429315e+09</td>\n",
              "      <td>223.398170</td>\n",
              "      <td>224.04</td>\n",
              "      <td>222.18</td>\n",
              "      <td>223.55</td>\n",
              "      <td>2015-04-18</td>\n",
              "      <td>224.02</td>\n",
              "    </tr>\n",
              "    <tr>\n",
              "      <th>647</th>\n",
              "      <td>2015-04-19</td>\n",
              "      <td>1.429402e+09</td>\n",
              "      <td>224.667792</td>\n",
              "      <td>226.72</td>\n",
              "      <td>223.44</td>\n",
              "      <td>224.02</td>\n",
              "      <td>2015-04-19</td>\n",
              "      <td>224.03</td>\n",
              "    </tr>\n",
              "    <tr>\n",
              "      <th>280</th>\n",
              "      <td>2015-04-21</td>\n",
              "      <td>1.429574e+09</td>\n",
              "      <td>227.170562</td>\n",
              "      <td>235.89</td>\n",
              "      <td>224.01</td>\n",
              "      <td>225.35</td>\n",
              "      <td>2015-04-21</td>\n",
              "      <td>235.89</td>\n",
              "    </tr>\n",
              "    <tr>\n",
              "      <th>...</th>\n",
              "      <td>...</td>\n",
              "      <td>...</td>\n",
              "      <td>...</td>\n",
              "      <td>...</td>\n",
              "      <td>...</td>\n",
              "      <td>...</td>\n",
              "      <td>...</td>\n",
              "      <td>...</td>\n",
              "    </tr>\n",
              "    <tr>\n",
              "      <th>739</th>\n",
              "      <td>2017-12-31</td>\n",
              "      <td>1.514678e+09</td>\n",
              "      <td>13386.497711</td>\n",
              "      <td>14280.26</td>\n",
              "      <td>12633.80</td>\n",
              "      <td>12839.98</td>\n",
              "      <td>2017-12-31</td>\n",
              "      <td>13863.13</td>\n",
              "    </tr>\n",
              "    <tr>\n",
              "      <th>571</th>\n",
              "      <td>2018-01-01</td>\n",
              "      <td>1.514765e+09</td>\n",
              "      <td>13425.054178</td>\n",
              "      <td>13889.00</td>\n",
              "      <td>12952.50</td>\n",
              "      <td>13863.14</td>\n",
              "      <td>2018-01-01</td>\n",
              "      <td>13480.01</td>\n",
              "    </tr>\n",
              "    <tr>\n",
              "      <th>450</th>\n",
              "      <td>2018-01-03</td>\n",
              "      <td>1.514938e+09</td>\n",
              "      <td>14989.939350</td>\n",
              "      <td>15400.00</td>\n",
              "      <td>14628.00</td>\n",
              "      <td>14781.52</td>\n",
              "      <td>2018-01-03</td>\n",
              "      <td>15098.14</td>\n",
              "    </tr>\n",
              "    <tr>\n",
              "      <th>367</th>\n",
              "      <td>2018-01-04</td>\n",
              "      <td>1.515024e+09</td>\n",
              "      <td>14851.477880</td>\n",
              "      <td>15400.00</td>\n",
              "      <td>14230.00</td>\n",
              "      <td>15098.23</td>\n",
              "      <td>2018-01-04</td>\n",
              "      <td>15144.99</td>\n",
              "    </tr>\n",
              "    <tr>\n",
              "      <th>35</th>\n",
              "      <td>2018-01-07</td>\n",
              "      <td>1.515283e+09</td>\n",
              "      <td>16526.973583</td>\n",
              "      <td>17115.01</td>\n",
              "      <td>15755.01</td>\n",
              "      <td>17099.00</td>\n",
              "      <td>2018-01-07</td>\n",
              "      <td>16174.22</td>\n",
              "    </tr>\n",
              "  </tbody>\n",
              "</table>\n",
              "<p>749 rows × 8 columns</p>\n",
              "</div>\n",
              "      <button class=\"colab-df-convert\" onclick=\"convertToInteractive('df-bf74021f-29d1-46e0-b3e2-6ebd4e62b966')\"\n",
              "              title=\"Convert this dataframe to an interactive table.\"\n",
              "              style=\"display:none;\">\n",
              "        \n",
              "  <svg xmlns=\"http://www.w3.org/2000/svg\" height=\"24px\"viewBox=\"0 0 24 24\"\n",
              "       width=\"24px\">\n",
              "    <path d=\"M0 0h24v24H0V0z\" fill=\"none\"/>\n",
              "    <path d=\"M18.56 5.44l.94 2.06.94-2.06 2.06-.94-2.06-.94-.94-2.06-.94 2.06-2.06.94zm-11 1L8.5 8.5l.94-2.06 2.06-.94-2.06-.94L8.5 2.5l-.94 2.06-2.06.94zm10 10l.94 2.06.94-2.06 2.06-.94-2.06-.94-.94-2.06-.94 2.06-2.06.94z\"/><path d=\"M17.41 7.96l-1.37-1.37c-.4-.4-.92-.59-1.43-.59-.52 0-1.04.2-1.43.59L10.3 9.45l-7.72 7.72c-.78.78-.78 2.05 0 2.83L4 21.41c.39.39.9.59 1.41.59.51 0 1.02-.2 1.41-.59l7.78-7.78 2.81-2.81c.8-.78.8-2.07 0-2.86zM5.41 20L4 18.59l7.72-7.72 1.47 1.35L5.41 20z\"/>\n",
              "  </svg>\n",
              "      </button>\n",
              "      \n",
              "  <style>\n",
              "    .colab-df-container {\n",
              "      display:flex;\n",
              "      flex-wrap:wrap;\n",
              "      gap: 12px;\n",
              "    }\n",
              "\n",
              "    .colab-df-convert {\n",
              "      background-color: #E8F0FE;\n",
              "      border: none;\n",
              "      border-radius: 50%;\n",
              "      cursor: pointer;\n",
              "      display: none;\n",
              "      fill: #1967D2;\n",
              "      height: 32px;\n",
              "      padding: 0 0 0 0;\n",
              "      width: 32px;\n",
              "    }\n",
              "\n",
              "    .colab-df-convert:hover {\n",
              "      background-color: #E2EBFA;\n",
              "      box-shadow: 0px 1px 2px rgba(60, 64, 67, 0.3), 0px 1px 3px 1px rgba(60, 64, 67, 0.15);\n",
              "      fill: #174EA6;\n",
              "    }\n",
              "\n",
              "    [theme=dark] .colab-df-convert {\n",
              "      background-color: #3B4455;\n",
              "      fill: #D2E3FC;\n",
              "    }\n",
              "\n",
              "    [theme=dark] .colab-df-convert:hover {\n",
              "      background-color: #434B5C;\n",
              "      box-shadow: 0px 1px 3px 1px rgba(0, 0, 0, 0.15);\n",
              "      filter: drop-shadow(0px 1px 2px rgba(0, 0, 0, 0.3));\n",
              "      fill: #FFFFFF;\n",
              "    }\n",
              "  </style>\n",
              "\n",
              "      <script>\n",
              "        const buttonEl =\n",
              "          document.querySelector('#df-bf74021f-29d1-46e0-b3e2-6ebd4e62b966 button.colab-df-convert');\n",
              "        buttonEl.style.display =\n",
              "          google.colab.kernel.accessAllowed ? 'block' : 'none';\n",
              "\n",
              "        async function convertToInteractive(key) {\n",
              "          const element = document.querySelector('#df-bf74021f-29d1-46e0-b3e2-6ebd4e62b966');\n",
              "          const dataTable =\n",
              "            await google.colab.kernel.invokeFunction('convertToInteractive',\n",
              "                                                     [key], {});\n",
              "          if (!dataTable) return;\n",
              "\n",
              "          const docLinkHtml = 'Like what you see? Visit the ' +\n",
              "            '<a target=\"_blank\" href=https://colab.research.google.com/notebooks/data_table.ipynb>data table notebook</a>'\n",
              "            + ' to learn more about interactive tables.';\n",
              "          element.innerHTML = '';\n",
              "          dataTable['output_type'] = 'display_data';\n",
              "          await google.colab.output.renderOutput(dataTable, element);\n",
              "          const docLink = document.createElement('div');\n",
              "          docLink.innerHTML = docLinkHtml;\n",
              "          element.appendChild(docLink);\n",
              "        }\n",
              "      </script>\n",
              "    </div>\n",
              "  </div>\n",
              "  "
            ]
          },
          "metadata": {},
          "execution_count": 9
        }
      ]
    },
    {
      "cell_type": "code",
      "source": [
        "#Diffrentiation time stamp into Date and Time\n",
        "import datetime\n",
        "for i in range(len(df)):\n",
        "    temp=df['ts'][i]\n",
        "    df['ts'][i]=datetime.datetime.fromtimestamp(int(temp)).strftime('%Y-%m-%d %H:%M:%S')\n",
        "\n",
        "print(df)"
      ],
      "metadata": {
        "colab": {
          "base_uri": "https://localhost:8080/"
        },
        "id": "YotGi33xekot",
        "outputId": "633ba286-4f2d-424c-a284-243a7304c238"
      },
      "execution_count": 10,
      "outputs": [
        {
          "output_type": "stream",
          "name": "stdout",
          "text": [
            "           date                   ts            wp        hi        lo  \\\n",
            "0    2017-02-25  2017-02-25 00:00:00   1172.382511   1189.49   1110.00   \n",
            "1    2017-12-28  2017-12-28 00:00:00  14292.860031  15489.00  13500.00   \n",
            "2    2016-08-05  2016-08-05 00:00:00    579.201128    592.87    570.39   \n",
            "3    2015-11-21  2015-11-21 00:00:00    324.774137    328.00    316.33   \n",
            "4    2015-11-26  2015-11-26 00:00:00    342.988280    368.18    328.98   \n",
            "..          ...                  ...           ...       ...       ...   \n",
            "744  2016-01-29  2016-01-29 00:00:00    376.906500    385.05    363.25   \n",
            "745  2015-08-02  2015-08-02 00:00:00    280.488208    282.62    277.33   \n",
            "746  2017-10-08  2017-10-08 00:00:00   4501.692441   4612.00   4420.01   \n",
            "747  2016-08-07  2016-08-07 00:00:00    594.310253    598.65    587.20   \n",
            "748  2017-03-03  2017-03-03 00:00:00   1278.979821   1294.99   1255.61   \n",
            "\n",
            "         open  \n",
            "0     1186.91  \n",
            "1    15360.01  \n",
            "2      587.50  \n",
            "3      322.39  \n",
            "4      328.99  \n",
            "..        ...  \n",
            "744    379.63  \n",
            "745    281.90  \n",
            "746   4425.00  \n",
            "747    591.70  \n",
            "748   1269.17  \n",
            "\n",
            "[749 rows x 6 columns]\n"
          ]
        },
        {
          "output_type": "stream",
          "name": "stderr",
          "text": [
            "/usr/local/lib/python3.7/dist-packages/ipykernel_launcher.py:5: SettingWithCopyWarning: \n",
            "A value is trying to be set on a copy of a slice from a DataFrame\n",
            "\n",
            "See the caveats in the documentation: https://pandas.pydata.org/pandas-docs/stable/user_guide/indexing.html#returning-a-view-versus-a-copy\n",
            "  \"\"\"\n",
            "/usr/local/lib/python3.7/dist-packages/pandas/core/indexing.py:1732: SettingWithCopyWarning: \n",
            "A value is trying to be set on a copy of a slice from a DataFrame\n",
            "\n",
            "See the caveats in the documentation: https://pandas.pydata.org/pandas-docs/stable/user_guide/indexing.html#returning-a-view-versus-a-copy\n",
            "  self._setitem_single_block(indexer, value, name)\n"
          ]
        }
      ]
    },
    {
      "cell_type": "code",
      "source": [
        "#Splitting timestamp into Date and Time \n",
        "df_train = df['ts'].str.split(\" \")\n",
        "df_train"
      ],
      "metadata": {
        "colab": {
          "base_uri": "https://localhost:8080/"
        },
        "id": "YB9XVxIteuji",
        "outputId": "e742774f-c9d8-4aad-fa18-3311187b2a4a"
      },
      "execution_count": 11,
      "outputs": [
        {
          "output_type": "execute_result",
          "data": {
            "text/plain": [
              "0      [2017-02-25, 00:00:00]\n",
              "1      [2017-12-28, 00:00:00]\n",
              "2      [2016-08-05, 00:00:00]\n",
              "3      [2015-11-21, 00:00:00]\n",
              "4      [2015-11-26, 00:00:00]\n",
              "                ...          \n",
              "744    [2016-01-29, 00:00:00]\n",
              "745    [2015-08-02, 00:00:00]\n",
              "746    [2017-10-08, 00:00:00]\n",
              "747    [2016-08-07, 00:00:00]\n",
              "748    [2017-03-03, 00:00:00]\n",
              "Name: ts, Length: 749, dtype: object"
            ]
          },
          "metadata": {},
          "execution_count": 11
        }
      ]
    },
    {
      "cell_type": "code",
      "source": [
        "#Checking for Null Values\n",
        "b = pd.DataFrame(b)\n",
        "print(b.notnull())"
      ],
      "metadata": {
        "colab": {
          "base_uri": "https://localhost:8080/"
        },
        "id": "qPdiznmre0tG",
        "outputId": "a7d007c7-9dc6-40c5-9a41-c7c6386cda70"
      },
      "execution_count": 12,
      "outputs": [
        {
          "output_type": "stream",
          "name": "stdout",
          "text": [
            "     date    ts    wp    hi    lo  open  datetrain  close\n",
            "0    True  True  True  True  True  True       True   True\n",
            "1    True  True  True  True  True  True       True   True\n",
            "2    True  True  True  True  True  True       True   True\n",
            "3    True  True  True  True  True  True       True   True\n",
            "4    True  True  True  True  True  True       True   True\n",
            "..    ...   ...   ...   ...   ...   ...        ...    ...\n",
            "744  True  True  True  True  True  True       True   True\n",
            "745  True  True  True  True  True  True       True   True\n",
            "746  True  True  True  True  True  True       True   True\n",
            "747  True  True  True  True  True  True       True   True\n",
            "748  True  True  True  True  True  True       True   True\n",
            "\n",
            "[749 rows x 8 columns]\n"
          ]
        }
      ]
    },
    {
      "cell_type": "code",
      "source": [
        "b.isnull().sum()"
      ],
      "metadata": {
        "colab": {
          "base_uri": "https://localhost:8080/"
        },
        "id": "Nd0ivWn_fTxS",
        "outputId": "44ae0d21-d264-4f22-e5a5-3e2d4808fff7"
      },
      "execution_count": 13,
      "outputs": [
        {
          "output_type": "execute_result",
          "data": {
            "text/plain": [
              "date         0\n",
              "ts           0\n",
              "wp           0\n",
              "hi           0\n",
              "lo           0\n",
              "open         0\n",
              "datetrain    0\n",
              "close        0\n",
              "dtype: int64"
            ]
          },
          "metadata": {},
          "execution_count": 13
        }
      ]
    },
    {
      "cell_type": "code",
      "source": [
        "sns.pairplot(df_sort)"
      ],
      "metadata": {
        "colab": {
          "base_uri": "https://localhost:8080/",
          "height": 681
        },
        "id": "GupdoWA7fXiQ",
        "outputId": "c055b888-e94c-4cf2-8e75-6f88cf12ba0f"
      },
      "execution_count": 14,
      "outputs": [
        {
          "output_type": "execute_result",
          "data": {
            "text/plain": [
              "<seaborn.axisgrid.PairGrid at 0x7f35dd83ec10>"
            ]
          },
          "metadata": {},
          "execution_count": 14
        },
        {
          "output_type": "display_data",
          "data": {
            "text/plain": [
              "<Figure size 1080x1080 with 42 Axes>"
            ],
            "image/png": "[encoded data removed]"
          },
          "metadata": {
            "needs_background": "light"
          }
        }
      ]
    },
    {
      "cell_type": "code",
      "source": [
        "# scatter plot of open and close variable in data\n",
        "df_sort.plot.scatter(x=\"open\",y=\"close\")\n",
        "\n",
        "plt.show()"
      ],
      "metadata": {
        "colab": {
          "base_uri": "https://localhost:8080/",
          "height": 280
        },
        "id": "AnsWauRRfga5",
        "outputId": "36f61bd8-d694-4f39-d347-1c20428d785d"
      },
      "execution_count": 15,
      "outputs": [
        {
          "output_type": "display_data",
          "data": {
            "text/plain": [
              "<Figure size 432x288 with 1 Axes>"
            ],
            "image/png": "[encoded data removed]"
          },
          "metadata": {
            "needs_background": "light"
          }
        }
      ]
    },
    {
      "cell_type": "code",
      "source": [
        "# Creating a matrix \n",
        "df_sort[['open','close','wp','hi','lo']].corr()\n",
        "\n",
        "#plot the correlation matrix in the dataframe.\n",
        "sns.heatmap(df_sort[['open','close','wp','hi','lo']].corr(), annot=True, cmap = 'Blues')\n",
        "plt.show()"
      ],
      "metadata": {
        "colab": {
          "base_uri": "https://localhost:8080/",
          "height": 269
        },
        "id": "6D8VBr-QftTX",
        "outputId": "41e10675-af5e-4dbe-c394-070df45628a6"
      },
      "execution_count": 16,
      "outputs": [
        {
          "output_type": "display_data",
          "data": {
            "text/plain": [
              "<Figure size 432x288 with 2 Axes>"
            ],
            "image/png": "[encoded data removed]"
          },
          "metadata": {
            "needs_background": "light"
          }
        }
      ]
    },
    {
      "cell_type": "code",
      "source": [
        "#Dropping Datetrain colum so that we left with single date column\n",
        "df_sort = df_sort.drop(columns=['datetrain'])\n",
        "print(df_sort)"
      ],
      "metadata": {
        "colab": {
          "base_uri": "https://localhost:8080/"
        },
        "id": "MfcIomepfy8Q",
        "outputId": "72935555-1517-4488-80cf-7cef7ccd1e39"
      },
      "execution_count": 17,
      "outputs": [
        {
          "output_type": "stream",
          "name": "stdout",
          "text": [
            "           date            ts            wp        hi        lo      open  \\\n",
            "696  2015-04-15  1.429056e+09    222.270771    224.52    218.09    221.05   \n",
            "185  2015-04-16  1.429142e+09    227.779413    230.75    223.66    224.35   \n",
            "287  2015-04-18  1.429315e+09    223.398170    224.04    222.18    223.55   \n",
            "647  2015-04-19  1.429402e+09    224.667792    226.72    223.44    224.02   \n",
            "280  2015-04-21  1.429574e+09    227.170562    235.89    224.01    225.35   \n",
            "..          ...           ...           ...       ...       ...       ...   \n",
            "739  2017-12-31  1.514678e+09  13386.497711  14280.26  12633.80  12839.98   \n",
            "571  2018-01-01  1.514765e+09  13425.054178  13889.00  12952.50  13863.14   \n",
            "450  2018-01-03  1.514938e+09  14989.939350  15400.00  14628.00  14781.52   \n",
            "367  2018-01-04  1.515024e+09  14851.477880  15400.00  14230.00  15098.23   \n",
            "35   2018-01-07  1.515283e+09  16526.973583  17115.01  15755.01  17099.00   \n",
            "\n",
            "        close  \n",
            "696    224.35  \n",
            "185    229.45  \n",
            "287    224.02  \n",
            "647    224.03  \n",
            "280    235.89  \n",
            "..        ...  \n",
            "739  13863.13  \n",
            "571  13480.01  \n",
            "450  15098.14  \n",
            "367  15144.99  \n",
            "35   16174.22  \n",
            "\n",
            "[749 rows x 7 columns]\n"
          ]
        }
      ]
    },
    {
      "cell_type": "code",
      "source": [
        "df_sort.head()"
      ],
      "metadata": {
        "colab": {
          "base_uri": "https://localhost:8080/",
          "height": 206
        },
        "id": "dB53pIzdgRwd",
        "outputId": "9021c8b9-d8f6-4123-8c6c-102397f06f82"
      },
      "execution_count": 18,
      "outputs": [
        {
          "output_type": "execute_result",
          "data": {
            "text/plain": [
              "           date            ts          wp      hi      lo    open   close\n",
              "696  2015-04-15  1.429056e+09  222.270771  224.52  218.09  221.05  224.35\n",
              "185  2015-04-16  1.429142e+09  227.779413  230.75  223.66  224.35  229.45\n",
              "287  2015-04-18  1.429315e+09  223.398170  224.04  222.18  223.55  224.02\n",
              "647  2015-04-19  1.429402e+09  224.667792  226.72  223.44  224.02  224.03\n",
              "280  2015-04-21  1.429574e+09  227.170562  235.89  224.01  225.35  235.89"
            ],
            "text/html": [
              "\n",
              "  <div id=\"df-8e924316-633f-446b-adfb-495118d6453c\">\n",
              "    <div class=\"colab-df-container\">\n",
              "      <div>\n",
              "<style scoped>\n",
              "    .dataframe tbody tr th:only-of-type {\n",
              "        vertical-align: middle;\n",
              "    }\n",
              "\n",
              "    .dataframe tbody tr th {\n",
              "        vertical-align: top;\n",
              "    }\n",
              "\n",
              "    .dataframe thead th {\n",
              "        text-align: right;\n",
              "    }\n",
              "</style>\n",
              "<table border=\"1\" class=\"dataframe\">\n",
              "  <thead>\n",
              "    <tr style=\"text-align: right;\">\n",
              "      <th></th>\n",
              "      <th>date</th>\n",
              "      <th>ts</th>\n",
              "      <th>wp</th>\n",
              "      <th>hi</th>\n",
              "      <th>lo</th>\n",
              "      <th>open</th>\n",
              "      <th>close</th>\n",
              "    </tr>\n",
              "  </thead>\n",
              "  <tbody>\n",
              "    <tr>\n",
              "      <th>696</th>\n",
              "      <td>2015-04-15</td>\n",
              "      <td>1.429056e+09</td>\n",
              "      <td>222.270771</td>\n",
              "      <td>224.52</td>\n",
              "      <td>218.09</td>\n",
              "      <td>221.05</td>\n",
              "      <td>224.35</td>\n",
              "    </tr>\n",
              "    <tr>\n",
              "      <th>185</th>\n",
              "      <td>2015-04-16</td>\n",
              "      <td>1.429142e+09</td>\n",
              "      <td>227.779413</td>\n",
              "      <td>230.75</td>\n",
              "      <td>223.66</td>\n",
              "      <td>224.35</td>\n",
              "      <td>229.45</td>\n",
              "    </tr>\n",
              "    <tr>\n",
              "      <th>287</th>\n",
              "      <td>2015-04-18</td>\n",
              "      <td>1.429315e+09</td>\n",
              "      <td>223.398170</td>\n",
              "      <td>224.04</td>\n",
              "      <td>222.18</td>\n",
              "      <td>223.55</td>\n",
              "      <td>224.02</td>\n",
              "    </tr>\n",
              "    <tr>\n",
              "      <th>647</th>\n",
              "      <td>2015-04-19</td>\n",
              "      <td>1.429402e+09</td>\n",
              "      <td>224.667792</td>\n",
              "      <td>226.72</td>\n",
              "      <td>223.44</td>\n",
              "      <td>224.02</td>\n",
              "      <td>224.03</td>\n",
              "    </tr>\n",
              "    <tr>\n",
              "      <th>280</th>\n",
              "      <td>2015-04-21</td>\n",
              "      <td>1.429574e+09</td>\n",
              "      <td>227.170562</td>\n",
              "      <td>235.89</td>\n",
              "      <td>224.01</td>\n",
              "      <td>225.35</td>\n",
              "      <td>235.89</td>\n",
              "    </tr>\n",
              "  </tbody>\n",
              "</table>\n",
              "</div>\n",
              "      <button class=\"colab-df-convert\" onclick=\"convertToInteractive('df-8e924316-633f-446b-adfb-495118d6453c')\"\n",
              "              title=\"Convert this dataframe to an interactive table.\"\n",
              "              style=\"display:none;\">\n",
              "        \n",
              "  <svg xmlns=\"http://www.w3.org/2000/svg\" height=\"24px\"viewBox=\"0 0 24 24\"\n",
              "       width=\"24px\">\n",
              "    <path d=\"M0 0h24v24H0V0z\" fill=\"none\"/>\n",
              "    <path d=\"M18.56 5.44l.94 2.06.94-2.06 2.06-.94-2.06-.94-.94-2.06-.94 2.06-2.06.94zm-11 1L8.5 8.5l.94-2.06 2.06-.94-2.06-.94L8.5 2.5l-.94 2.06-2.06.94zm10 10l.94 2.06.94-2.06 2.06-.94-2.06-.94-.94-2.06-.94 2.06-2.06.94z\"/><path d=\"M17.41 7.96l-1.37-1.37c-.4-.4-.92-.59-1.43-.59-.52 0-1.04.2-1.43.59L10.3 9.45l-7.72 7.72c-.78.78-.78 2.05 0 2.83L4 21.41c.39.39.9.59 1.41.59.51 0 1.02-.2 1.41-.59l7.78-7.78 2.81-2.81c.8-.78.8-2.07 0-2.86zM5.41 20L4 18.59l7.72-7.72 1.47 1.35L5.41 20z\"/>\n",
              "  </svg>\n",
              "      </button>\n",
              "      \n",
              "  <style>\n",
              "    .colab-df-container {\n",
              "      display:flex;\n",
              "      flex-wrap:wrap;\n",
              "      gap: 12px;\n",
              "    }\n",
              "\n",
              "    .colab-df-convert {\n",
              "      background-color: #E8F0FE;\n",
              "      border: none;\n",
              "      border-radius: 50%;\n",
              "      cursor: pointer;\n",
              "      display: none;\n",
              "      fill: #1967D2;\n",
              "      height: 32px;\n",
              "      padding: 0 0 0 0;\n",
              "      width: 32px;\n",
              "    }\n",
              "\n",
              "    .colab-df-convert:hover {\n",
              "      background-color: #E2EBFA;\n",
              "      box-shadow: 0px 1px 2px rgba(60, 64, 67, 0.3), 0px 1px 3px 1px rgba(60, 64, 67, 0.15);\n",
              "      fill: #174EA6;\n",
              "    }\n",
              "\n",
              "    [theme=dark] .colab-df-convert {\n",
              "      background-color: #3B4455;\n",
              "      fill: #D2E3FC;\n",
              "    }\n",
              "\n",
              "    [theme=dark] .colab-df-convert:hover {\n",
              "      background-color: #434B5C;\n",
              "      box-shadow: 0px 1px 3px 1px rgba(0, 0, 0, 0.15);\n",
              "      filter: drop-shadow(0px 1px 2px rgba(0, 0, 0, 0.3));\n",
              "      fill: #FFFFFF;\n",
              "    }\n",
              "  </style>\n",
              "\n",
              "      <script>\n",
              "        const buttonEl =\n",
              "          document.querySelector('#df-8e924316-633f-446b-adfb-495118d6453c button.colab-df-convert');\n",
              "        buttonEl.style.display =\n",
              "          google.colab.kernel.accessAllowed ? 'block' : 'none';\n",
              "\n",
              "        async function convertToInteractive(key) {\n",
              "          const element = document.querySelector('#df-8e924316-633f-446b-adfb-495118d6453c');\n",
              "          const dataTable =\n",
              "            await google.colab.kernel.invokeFunction('convertToInteractive',\n",
              "                                                     [key], {});\n",
              "          if (!dataTable) return;\n",
              "\n",
              "          const docLinkHtml = 'Like what you see? Visit the ' +\n",
              "            '<a target=\"_blank\" href=https://colab.research.google.com/notebooks/data_table.ipynb>data table notebook</a>'\n",
              "            + ' to learn more about interactive tables.';\n",
              "          element.innerHTML = '';\n",
              "          dataTable['output_type'] = 'display_data';\n",
              "          await google.colab.output.renderOutput(dataTable, element);\n",
              "          const docLink = document.createElement('div');\n",
              "          docLink.innerHTML = docLinkHtml;\n",
              "          element.appendChild(docLink);\n",
              "        }\n",
              "      </script>\n",
              "    </div>\n",
              "  </div>\n",
              "  "
            ]
          },
          "metadata": {},
          "execution_count": 18
        }
      ]
    },
    {
      "cell_type": "code",
      "source": [
        "X1 = df_sort.drop(columns=['close'])\n",
        "X = X1.drop(columns=['date'])\n",
        "\n",
        "y = df_sort['close']"
      ],
      "metadata": {
        "id": "s5AimX_EgcPw"
      },
      "execution_count": 19,
      "outputs": []
    },
    {
      "cell_type": "code",
      "source": [
        "from sklearn import preprocessing\n",
        "import matplotlib.pyplot as plt \n",
        "from sklearn.metrics import classification_report, confusion_matrix\n",
        "from sklearn.model_selection import train_test_split"
      ],
      "metadata": {
        "id": "1G_DvTjhguLT"
      },
      "execution_count": 20,
      "outputs": []
    },
    {
      "cell_type": "code",
      "source": [
        "import numpy as np\n",
        "from sklearn                        import metrics, svm\n",
        "from sklearn.linear_model           import LinearRegression\n",
        "from sklearn.linear_model           import LogisticRegression\n",
        "from sklearn.tree                   import DecisionTreeClassifier\n",
        "from sklearn.neighbors              import KNeighborsClassifier\n",
        "from sklearn.discriminant_analysis  import LinearDiscriminantAnalysis\n",
        "from sklearn.naive_bayes            import GaussianNB\n",
        "from sklearn.svm                    import SVC"
      ],
      "metadata": {
        "id": "WSe_-nxXg0KO"
      },
      "execution_count": 21,
      "outputs": []
    },
    {
      "cell_type": "code",
      "source": [
        "# Using train_test_split model to train with training size 80% of the dataset\n",
        "X_train, X_test, y_train, y_test = train_test_split(X, y, test_size=0.2, random_state=1)"
      ],
      "metadata": {
        "id": "yoYqpo7_g30P"
      },
      "execution_count": 22,
      "outputs": []
    },
    {
      "cell_type": "code",
      "source": [
        "#Regression Model\n",
        "from sklearn import datasets, linear_model, metrics\n",
        "reg = linear_model.LinearRegression()\n",
        "# train the model using the training sets\n",
        "reg.fit(X_train, y_train)"
      ],
      "metadata": {
        "colab": {
          "base_uri": "https://localhost:8080/"
        },
        "id": "ffaet0UukMQv",
        "outputId": "cb0f801f-3d26-4c87-d3af-5ba49ba06f43"
      },
      "execution_count": 23,
      "outputs": [
        {
          "output_type": "execute_result",
          "data": {
            "text/plain": [
              "LinearRegression()"
            ]
          },
          "metadata": {},
          "execution_count": 23
        }
      ]
    },
    {
      "cell_type": "code",
      "source": [
        "# regression coefficients\n",
        "print('Coefficients: ', reg.coef_)"
      ],
      "metadata": {
        "colab": {
          "base_uri": "https://localhost:8080/"
        },
        "id": "bTSoyy-LkMNB",
        "outputId": "6b02b3fb-9dfe-46f9-8cbd-e9e6ad5f2b8d"
      },
      "execution_count": 24,
      "outputs": [
        {
          "output_type": "stream",
          "name": "stdout",
          "text": [
            "Coefficients:  [-3.92878759e-08 -1.59374627e-01  8.41054584e-01  6.10927949e-01\n",
            " -2.93084995e-01]\n"
          ]
        }
      ]
    },
    {
      "cell_type": "code",
      "source": [
        "#Data Visualization\n",
        "#setting plot style\n",
        "plt.style.use('fivethirtyeight')\n",
        "# plotting residual errors in training data\n",
        "plt.scatter(reg.predict(X_train), reg.predict(X_train) - y_train,\n",
        " \t\t\tcolor = \"green\", s = 10, label = 'Train data')"
      ],
      "metadata": {
        "colab": {
          "base_uri": "https://localhost:8080/",
          "height": 299
        },
        "id": "oQn7DzL4kMHD",
        "outputId": "cf3d2960-82f1-436e-fea5-4e378f94b4ae"
      },
      "execution_count": 25,
      "outputs": [
        {
          "output_type": "execute_result",
          "data": {
            "text/plain": [
              "<matplotlib.collections.PathCollection at 0x7f35d9820490>"
            ]
          },
          "metadata": {},
          "execution_count": 25
        },
        {
          "output_type": "display_data",
          "data": {
            "text/plain": [
              "<Figure size 432x288 with 1 Axes>"
            ],
            "image/png": "[encoded data removed]"
          },
          "metadata": {}
        }
      ]
    },
    {
      "cell_type": "code",
      "source": [
        "# plotting residual errors in test data\n",
        "plt.scatter(reg.predict(X_test), reg.predict(X_test) - y_test,\n",
        " \t\t\tcolor = \"blue\", s = 10, label = 'Test data')"
      ],
      "metadata": {
        "colab": {
          "base_uri": "https://localhost:8080/",
          "height": 299
        },
        "id": "bCi-YGgRkMEO",
        "outputId": "1c94cdb4-65dc-41ca-d88b-faa1522bc93b"
      },
      "execution_count": 26,
      "outputs": [
        {
          "output_type": "execute_result",
          "data": {
            "text/plain": [
              "<matplotlib.collections.PathCollection at 0x7f35d40dbcd0>"
            ]
          },
          "metadata": {},
          "execution_count": 26
        },
        {
          "output_type": "display_data",
          "data": {
            "text/plain": [
              "<Figure size 432x288 with 1 Axes>"
            ],
            "image/png": "[encoded data removed]"
          },
          "metadata": {}
        }
      ]
    },
    {
      "cell_type": "code",
      "source": [
        "y_pred_reg = reg.predict(X_test)"
      ],
      "metadata": {
        "id": "PUOcwgXCmVDh"
      },
      "execution_count": 27,
      "outputs": []
    },
    {
      "cell_type": "code",
      "source": [
        "from sklearn.metrics import mean_absolute_error\n",
        "from sklearn.metrics import mean_squared_error\n",
        "from sklearn.metrics import r2_score\n",
        "from sklearn.metrics import mean_absolute_percentage_error\n",
        "print(\"MAE\",mean_absolute_error(y_test,y_pred_reg))\n",
        "print(\"MSE\",mean_squared_error(y_test,y_pred_reg))\n",
        "print(\"RMSE\",np.sqrt(mean_squared_error(y_test,y_pred_reg)))\n",
        "print(\"MAPE\",mean_absolute_percentage_error(y_test,y_pred_reg))\n",
        "r2 = r2_score(y_test,y_pred_reg)\n",
        "print(\"r2 value: \",r2)"
      ],
      "metadata": {
        "colab": {
          "base_uri": "https://localhost:8080/"
        },
        "id": "DsKUIzjvmr0L",
        "outputId": "4b5f1c49-de56-403a-abbe-6c0ceb8cc686"
      },
      "execution_count": 28,
      "outputs": [
        {
          "output_type": "stream",
          "name": "stdout",
          "text": [
            "MAE 31.632425460174392\n",
            "MSE 10958.470241738512\n",
            "RMSE 104.68271223912052\n",
            "MAPE 0.010669518712140894\n",
            "r2 value:  0.9992239405017732\n"
          ]
        }
      ]
    },
    {
      "cell_type": "code",
      "source": [
        "clf = svm.SVR()\n",
        "clf.fit(X_train, y_train)\n",
        "print(\"SVR\")"
      ],
      "metadata": {
        "colab": {
          "base_uri": "https://localhost:8080/"
        },
        "id": "ZO3TuzcckMA8",
        "outputId": "c7ae1898-ca26-48c0-daa3-712eaf19badb"
      },
      "execution_count": 29,
      "outputs": [
        {
          "output_type": "stream",
          "name": "stdout",
          "text": [
            "SVR\n"
          ]
        }
      ]
    },
    {
      "cell_type": "code",
      "source": [
        "y_pred_clf = clf.predict(X_test)"
      ],
      "metadata": {
        "id": "kZPPR-bUkL9b"
      },
      "execution_count": 30,
      "outputs": []
    },
    {
      "cell_type": "code",
      "source": [
        "print(\"MAE\",mean_absolute_error(y_test,y_pred_clf))\n",
        "print(\"MSE\",mean_squared_error(y_test,y_pred_clf))\n",
        "print(\"RMSE\",np.sqrt(mean_squared_error(y_test,y_pred_clf)))\n",
        "print(\"MAPE\",mean_absolute_percentage_error(y_test,y_pred_clf))\n",
        "r2 = r2_score(y_test,y_pred_clf)\n",
        "print(\"r2 value: \",r2)"
      ],
      "metadata": {
        "colab": {
          "base_uri": "https://localhost:8080/"
        },
        "id": "WOOCMVM5kL7f",
        "outputId": "eae76bfa-5fd3-4ffa-cd4d-d8a6bfcda75e"
      },
      "execution_count": 31,
      "outputs": [
        {
          "output_type": "stream",
          "name": "stdout",
          "text": [
            "MAE 1825.7932437237926\n",
            "MSE 16569690.275676418\n",
            "RMSE 4070.588443416556\n",
            "MAPE 0.7560305089430932\n",
            "r2 value:  -0.17343618565824603\n"
          ]
        }
      ]
    },
    {
      "cell_type": "code",
      "source": [
        "clf2 = linear_model.SGDRegressor()\n",
        "clf2.fit(X_train, y_train)\n",
        "print(\"SGD Regressor\")"
      ],
      "metadata": {
        "colab": {
          "base_uri": "https://localhost:8080/"
        },
        "id": "tMKIfHhWqj7A",
        "outputId": "187f9c31-6af7-4c78-c73b-0e0ab3968121"
      },
      "execution_count": 32,
      "outputs": [
        {
          "output_type": "stream",
          "name": "stdout",
          "text": [
            "SGD Regressor\n"
          ]
        }
      ]
    },
    {
      "cell_type": "code",
      "source": [
        "y_pred_clf2 = clf2.predict(X_test)"
      ],
      "metadata": {
        "id": "qAK_eCVHrDL8"
      },
      "execution_count": 33,
      "outputs": []
    },
    {
      "cell_type": "code",
      "source": [
        "print(\"MAE\",mean_absolute_error(y_test,y_pred_clf2))\n",
        "print(\"MSE\",mean_squared_error(y_test,y_pred_clf2))\n",
        "print(\"RMSE\",np.sqrt(mean_squared_error(y_test,y_pred_clf2)))\n",
        "print(\"MAPE\",mean_absolute_percentage_error(y_test,y_pred_clf2))\n",
        "r2 = r2_score(y_test,y_pred_clf2)\n",
        "print(\"r2 value: \",r2)"
      ],
      "metadata": {
        "colab": {
          "base_uri": "https://localhost:8080/"
        },
        "id": "buAsQhcMrGl_",
        "outputId": "ced24f4a-df41-4b84-ea97-a0d40c3e5ac1"
      },
      "execution_count": 34,
      "outputs": [
        {
          "output_type": "stream",
          "name": "stdout",
          "text": [
            "MAE 1.4081526637332767e+27\n",
            "MSE 1.9835465331518404e+54\n",
            "RMSE 1.4083843698194894e+27\n",
            "MAPE 2.517716915310294e+24\n",
            "r2 value:  -1.4047126042869354e+47\n"
          ]
        }
      ]
    },
    {
      "cell_type": "code",
      "source": [
        "clf3 = linear_model.BayesianRidge()\n",
        "clf3.fit(X_train, y_train)\n",
        "print(\"BayesianRidge\")\n",
        "# formulates linear regression using probability distributors rather than point estimates. "
      ],
      "metadata": {
        "colab": {
          "base_uri": "https://localhost:8080/"
        },
        "id": "_bzSSOMYrJxR",
        "outputId": "b66731d9-4ef7-43c0-ef94-d6cade8f4a2d"
      },
      "execution_count": 35,
      "outputs": [
        {
          "output_type": "stream",
          "name": "stdout",
          "text": [
            "BayesianRidge\n"
          ]
        }
      ]
    },
    {
      "cell_type": "code",
      "source": [
        "y_pred_clf3 = clf3.predict(X_test)"
      ],
      "metadata": {
        "id": "AVmnPfVVrR6P"
      },
      "execution_count": 36,
      "outputs": []
    },
    {
      "cell_type": "code",
      "source": [
        "print(\"MAE\",mean_absolute_error(y_test,y_pred_clf3))\n",
        "print(\"MSE\",mean_squared_error(y_test,y_pred_clf3))\n",
        "print(\"RMSE\",np.sqrt(mean_squared_error(y_test,y_pred_clf3)))\n",
        "print(\"MAPE\",mean_absolute_percentage_error(y_test,y_pred_clf3))\n",
        "r2 = r2_score(y_test,y_pred_clf3)\n",
        "print(\"r2 value: \",r2)"
      ],
      "metadata": {
        "colab": {
          "base_uri": "https://localhost:8080/"
        },
        "id": "Biy8tDivruJ-",
        "outputId": "aaecc4b8-981a-424b-c7e1-30884108cf4d"
      },
      "execution_count": 37,
      "outputs": [
        {
          "output_type": "stream",
          "name": "stdout",
          "text": [
            "MAE 31.31487222776736\n",
            "MSE 10525.717475050902\n",
            "RMSE 102.59491934326428\n",
            "MAPE 0.010600696249449275\n",
            "r2 value:  0.9992545872880092\n"
          ]
        }
      ]
    },
    {
      "cell_type": "code",
      "source": [
        "clf4 = linear_model.LassoLars()\n",
        "clf4.fit(X_train, y_train)\n",
        "print(\"Lassolars\")\n",
        "# default alpha = 1 , whereas linear regressor have alpha = 0 "
      ],
      "metadata": {
        "colab": {
          "base_uri": "https://localhost:8080/"
        },
        "id": "Wp2cPNBNrwhA",
        "outputId": "520e2f26-d824-4c3f-9329-8993a152fc01"
      },
      "execution_count": 38,
      "outputs": [
        {
          "output_type": "stream",
          "name": "stdout",
          "text": [
            "Lassolars\n"
          ]
        },
        {
          "output_type": "stream",
          "name": "stderr",
          "text": [
            "/usr/local/lib/python3.7/dist-packages/sklearn/linear_model/_base.py:138: FutureWarning: The default of 'normalize' will be set to False in version 1.2 and deprecated in version 1.4.\n",
            "If you wish to scale the data, use Pipeline with a StandardScaler in a preprocessing stage. To reproduce the previous behavior:\n",
            "\n",
            "from sklearn.pipeline import make_pipeline\n",
            "\n",
            "model = make_pipeline(StandardScaler(with_mean=False), LassoLars())\n",
            "\n",
            "If you wish to pass a sample_weight parameter, you need to pass it as a fit parameter to each step of the pipeline as follows:\n",
            "\n",
            "kwargs = {s[0] + '__sample_weight': sample_weight for s in model.steps}\n",
            "model.fit(X, y, **kwargs)\n",
            "\n",
            "Set parameter alpha to: original_alpha * np.sqrt(n_samples). \n",
            "  FutureWarning,\n"
          ]
        }
      ]
    },
    {
      "cell_type": "code",
      "source": [
        "y_pred_clf4 = clf4.predict(X_test)"
      ],
      "metadata": {
        "id": "LhSKgmX9sAiE"
      },
      "execution_count": 39,
      "outputs": []
    },
    {
      "cell_type": "code",
      "source": [
        "print(\"MAE\",mean_absolute_error(y_test,y_pred_clf4))\n",
        "print(\"MSE\",mean_squared_error(y_test,y_pred_clf4))\n",
        "print(\"RMSE\",np.sqrt(mean_squared_error(y_test,y_pred_clf4)))\n",
        "print(\"MAPE\",mean_absolute_percentage_error(y_test,y_pred_clf4))\n",
        "r2 = r2_score(y_test,y_pred_clf4)\n",
        "print(\"r2 value: \",r2)"
      ],
      "metadata": {
        "colab": {
          "base_uri": "https://localhost:8080/"
        },
        "id": "gGVbs10FsDrP",
        "outputId": "c93bbb2d-b4c2-4a55-f456-a480f021d3e1"
      },
      "execution_count": 40,
      "outputs": [
        {
          "output_type": "stream",
          "name": "stdout",
          "text": [
            "MAE 34.77970639149973\n",
            "MSE 5413.5281934523155\n",
            "RMSE 73.57668240313853\n",
            "MAPE 0.027747697073750254\n",
            "r2 value:  0.9996166234993781\n"
          ]
        }
      ]
    },
    {
      "cell_type": "code",
      "source": [
        "df_testdata = pd.read_csv('/content/drive/MyDrive/DSMLDATASET/test_data.csv')\n",
        "df_testdata"
      ],
      "metadata": {
        "colab": {
          "base_uri": "https://localhost:8080/",
          "height": 423
        },
        "id": "6q6Qr7Tzwx3u",
        "outputId": "7149050c-d548-434b-c728-77f51c6e3379"
      },
      "execution_count": 41,
      "outputs": [
        {
          "output_type": "execute_result",
          "data": {
            "text/plain": [
              "           date            ts           wp       hi       lo     open\n",
              "0    2016-07-16  1.468627e+09   667.010196   669.99   662.01   667.48\n",
              "1    2016-09-20  1.474330e+09   608.817753   609.92   605.60   608.60\n",
              "2    2017-02-27  1.488154e+09  1189.531393  1198.99  1176.00  1184.91\n",
              "3    2016-10-08  1.475885e+09   618.950957   620.00   617.55   618.11\n",
              "4    2015-12-08  1.449533e+09   395.036331   418.94   386.69   394.73\n",
              "..          ...           ...          ...      ...      ...      ...\n",
              "245  2017-02-22  1.487722e+09  1124.780081  1140.00  1104.90  1129.67\n",
              "246  2017-01-24  1.485216e+09   908.492474   923.00   880.00   911.78\n",
              "247  2016-08-18  1.471478e+09   575.128134   576.99   573.00   574.45\n",
              "248  2015-11-11  1.447200e+09   316.034258   341.75   293.32   337.14\n",
              "249  2015-12-24  1.450915e+09   455.087880   460.00   442.42   442.43\n",
              "\n",
              "[250 rows x 6 columns]"
            ],
            "text/html": [
              "\n",
              "  <div id=\"df-a36898e3-25e2-432b-bc5b-205aee4d2778\">\n",
              "    <div class=\"colab-df-container\">\n",
              "      <div>\n",
              "<style scoped>\n",
              "    .dataframe tbody tr th:only-of-type {\n",
              "        vertical-align: middle;\n",
              "    }\n",
              "\n",
              "    .dataframe tbody tr th {\n",
              "        vertical-align: top;\n",
              "    }\n",
              "\n",
              "    .dataframe thead th {\n",
              "        text-align: right;\n",
              "    }\n",
              "</style>\n",
              "<table border=\"1\" class=\"dataframe\">\n",
              "  <thead>\n",
              "    <tr style=\"text-align: right;\">\n",
              "      <th></th>\n",
              "      <th>date</th>\n",
              "      <th>ts</th>\n",
              "      <th>wp</th>\n",
              "      <th>hi</th>\n",
              "      <th>lo</th>\n",
              "      <th>open</th>\n",
              "    </tr>\n",
              "  </thead>\n",
              "  <tbody>\n",
              "    <tr>\n",
              "      <th>0</th>\n",
              "      <td>2016-07-16</td>\n",
              "      <td>1.468627e+09</td>\n",
              "      <td>667.010196</td>\n",
              "      <td>669.99</td>\n",
              "      <td>662.01</td>\n",
              "      <td>667.48</td>\n",
              "    </tr>\n",
              "    <tr>\n",
              "      <th>1</th>\n",
              "      <td>2016-09-20</td>\n",
              "      <td>1.474330e+09</td>\n",
              "      <td>608.817753</td>\n",
              "      <td>609.92</td>\n",
              "      <td>605.60</td>\n",
              "      <td>608.60</td>\n",
              "    </tr>\n",
              "    <tr>\n",
              "      <th>2</th>\n",
              "      <td>2017-02-27</td>\n",
              "      <td>1.488154e+09</td>\n",
              "      <td>1189.531393</td>\n",
              "      <td>1198.99</td>\n",
              "      <td>1176.00</td>\n",
              "      <td>1184.91</td>\n",
              "    </tr>\n",
              "    <tr>\n",
              "      <th>3</th>\n",
              "      <td>2016-10-08</td>\n",
              "      <td>1.475885e+09</td>\n",
              "      <td>618.950957</td>\n",
              "      <td>620.00</td>\n",
              "      <td>617.55</td>\n",
              "      <td>618.11</td>\n",
              "    </tr>\n",
              "    <tr>\n",
              "      <th>4</th>\n",
              "      <td>2015-12-08</td>\n",
              "      <td>1.449533e+09</td>\n",
              "      <td>395.036331</td>\n",
              "      <td>418.94</td>\n",
              "      <td>386.69</td>\n",
              "      <td>394.73</td>\n",
              "    </tr>\n",
              "    <tr>\n",
              "      <th>...</th>\n",
              "      <td>...</td>\n",
              "      <td>...</td>\n",
              "      <td>...</td>\n",
              "      <td>...</td>\n",
              "      <td>...</td>\n",
              "      <td>...</td>\n",
              "    </tr>\n",
              "    <tr>\n",
              "      <th>245</th>\n",
              "      <td>2017-02-22</td>\n",
              "      <td>1.487722e+09</td>\n",
              "      <td>1124.780081</td>\n",
              "      <td>1140.00</td>\n",
              "      <td>1104.90</td>\n",
              "      <td>1129.67</td>\n",
              "    </tr>\n",
              "    <tr>\n",
              "      <th>246</th>\n",
              "      <td>2017-01-24</td>\n",
              "      <td>1.485216e+09</td>\n",
              "      <td>908.492474</td>\n",
              "      <td>923.00</td>\n",
              "      <td>880.00</td>\n",
              "      <td>911.78</td>\n",
              "    </tr>\n",
              "    <tr>\n",
              "      <th>247</th>\n",
              "      <td>2016-08-18</td>\n",
              "      <td>1.471478e+09</td>\n",
              "      <td>575.128134</td>\n",
              "      <td>576.99</td>\n",
              "      <td>573.00</td>\n",
              "      <td>574.45</td>\n",
              "    </tr>\n",
              "    <tr>\n",
              "      <th>248</th>\n",
              "      <td>2015-11-11</td>\n",
              "      <td>1.447200e+09</td>\n",
              "      <td>316.034258</td>\n",
              "      <td>341.75</td>\n",
              "      <td>293.32</td>\n",
              "      <td>337.14</td>\n",
              "    </tr>\n",
              "    <tr>\n",
              "      <th>249</th>\n",
              "      <td>2015-12-24</td>\n",
              "      <td>1.450915e+09</td>\n",
              "      <td>455.087880</td>\n",
              "      <td>460.00</td>\n",
              "      <td>442.42</td>\n",
              "      <td>442.43</td>\n",
              "    </tr>\n",
              "  </tbody>\n",
              "</table>\n",
              "<p>250 rows × 6 columns</p>\n",
              "</div>\n",
              "      <button class=\"colab-df-convert\" onclick=\"convertToInteractive('df-a36898e3-25e2-432b-bc5b-205aee4d2778')\"\n",
              "              title=\"Convert this dataframe to an interactive table.\"\n",
              "              style=\"display:none;\">\n",
              "        \n",
              "  <svg xmlns=\"http://www.w3.org/2000/svg\" height=\"24px\"viewBox=\"0 0 24 24\"\n",
              "       width=\"24px\">\n",
              "    <path d=\"M0 0h24v24H0V0z\" fill=\"none\"/>\n",
              "    <path d=\"M18.56 5.44l.94 2.06.94-2.06 2.06-.94-2.06-.94-.94-2.06-.94 2.06-2.06.94zm-11 1L8.5 8.5l.94-2.06 2.06-.94-2.06-.94L8.5 2.5l-.94 2.06-2.06.94zm10 10l.94 2.06.94-2.06 2.06-.94-2.06-.94-.94-2.06-.94 2.06-2.06.94z\"/><path d=\"M17.41 7.96l-1.37-1.37c-.4-.4-.92-.59-1.43-.59-.52 0-1.04.2-1.43.59L10.3 9.45l-7.72 7.72c-.78.78-.78 2.05 0 2.83L4 21.41c.39.39.9.59 1.41.59.51 0 1.02-.2 1.41-.59l7.78-7.78 2.81-2.81c.8-.78.8-2.07 0-2.86zM5.41 20L4 18.59l7.72-7.72 1.47 1.35L5.41 20z\"/>\n",
              "  </svg>\n",
              "      </button>\n",
              "      \n",
              "  <style>\n",
              "    .colab-df-container {\n",
              "      display:flex;\n",
              "      flex-wrap:wrap;\n",
              "      gap: 12px;\n",
              "    }\n",
              "\n",
              "    .colab-df-convert {\n",
              "      background-color: #E8F0FE;\n",
              "      border: none;\n",
              "      border-radius: 50%;\n",
              "      cursor: pointer;\n",
              "      display: none;\n",
              "      fill: #1967D2;\n",
              "      height: 32px;\n",
              "      padding: 0 0 0 0;\n",
              "      width: 32px;\n",
              "    }\n",
              "\n",
              "    .colab-df-convert:hover {\n",
              "      background-color: #E2EBFA;\n",
              "      box-shadow: 0px 1px 2px rgba(60, 64, 67, 0.3), 0px 1px 3px 1px rgba(60, 64, 67, 0.15);\n",
              "      fill: #174EA6;\n",
              "    }\n",
              "\n",
              "    [theme=dark] .colab-df-convert {\n",
              "      background-color: #3B4455;\n",
              "      fill: #D2E3FC;\n",
              "    }\n",
              "\n",
              "    [theme=dark] .colab-df-convert:hover {\n",
              "      background-color: #434B5C;\n",
              "      box-shadow: 0px 1px 3px 1px rgba(0, 0, 0, 0.15);\n",
              "      filter: drop-shadow(0px 1px 2px rgba(0, 0, 0, 0.3));\n",
              "      fill: #FFFFFF;\n",
              "    }\n",
              "  </style>\n",
              "\n",
              "      <script>\n",
              "        const buttonEl =\n",
              "          document.querySelector('#df-a36898e3-25e2-432b-bc5b-205aee4d2778 button.colab-df-convert');\n",
              "        buttonEl.style.display =\n",
              "          google.colab.kernel.accessAllowed ? 'block' : 'none';\n",
              "\n",
              "        async function convertToInteractive(key) {\n",
              "          const element = document.querySelector('#df-a36898e3-25e2-432b-bc5b-205aee4d2778');\n",
              "          const dataTable =\n",
              "            await google.colab.kernel.invokeFunction('convertToInteractive',\n",
              "                                                     [key], {});\n",
              "          if (!dataTable) return;\n",
              "\n",
              "          const docLinkHtml = 'Like what you see? Visit the ' +\n",
              "            '<a target=\"_blank\" href=https://colab.research.google.com/notebooks/data_table.ipynb>data table notebook</a>'\n",
              "            + ' to learn more about interactive tables.';\n",
              "          element.innerHTML = '';\n",
              "          dataTable['output_type'] = 'display_data';\n",
              "          await google.colab.output.renderOutput(dataTable, element);\n",
              "          const docLink = document.createElement('div');\n",
              "          docLink.innerHTML = docLinkHtml;\n",
              "          element.appendChild(docLink);\n",
              "        }\n",
              "      </script>\n",
              "    </div>\n",
              "  </div>\n",
              "  "
            ]
          },
          "metadata": {},
          "execution_count": 41
        }
      ]
    },
    {
      "cell_type": "code",
      "source": [
        "z = df_testdata\n",
        "z = z.drop(columns = ['date'])\n",
        "z"
      ],
      "metadata": {
        "colab": {
          "base_uri": "https://localhost:8080/",
          "height": 423
        },
        "id": "2Rm_OO6Lw5EV",
        "outputId": "af9a5b65-4e33-4383-a5d9-d94b7bfa5d6c"
      },
      "execution_count": 42,
      "outputs": [
        {
          "output_type": "execute_result",
          "data": {
            "text/plain": [
              "               ts           wp       hi       lo     open\n",
              "0    1.468627e+09   667.010196   669.99   662.01   667.48\n",
              "1    1.474330e+09   608.817753   609.92   605.60   608.60\n",
              "2    1.488154e+09  1189.531393  1198.99  1176.00  1184.91\n",
              "3    1.475885e+09   618.950957   620.00   617.55   618.11\n",
              "4    1.449533e+09   395.036331   418.94   386.69   394.73\n",
              "..            ...          ...      ...      ...      ...\n",
              "245  1.487722e+09  1124.780081  1140.00  1104.90  1129.67\n",
              "246  1.485216e+09   908.492474   923.00   880.00   911.78\n",
              "247  1.471478e+09   575.128134   576.99   573.00   574.45\n",
              "248  1.447200e+09   316.034258   341.75   293.32   337.14\n",
              "249  1.450915e+09   455.087880   460.00   442.42   442.43\n",
              "\n",
              "[250 rows x 5 columns]"
            ],
            "text/html": [
              "\n",
              "  <div id=\"df-123a59c3-5971-44e8-a371-be5c83839451\">\n",
              "    <div class=\"colab-df-container\">\n",
              "      <div>\n",
              "<style scoped>\n",
              "    .dataframe tbody tr th:only-of-type {\n",
              "        vertical-align: middle;\n",
              "    }\n",
              "\n",
              "    .dataframe tbody tr th {\n",
              "        vertical-align: top;\n",
              "    }\n",
              "\n",
              "    .dataframe thead th {\n",
              "        text-align: right;\n",
              "    }\n",
              "</style>\n",
              "<table border=\"1\" class=\"dataframe\">\n",
              "  <thead>\n",
              "    <tr style=\"text-align: right;\">\n",
              "      <th></th>\n",
              "      <th>ts</th>\n",
              "      <th>wp</th>\n",
              "      <th>hi</th>\n",
              "      <th>lo</th>\n",
              "      <th>open</th>\n",
              "    </tr>\n",
              "  </thead>\n",
              "  <tbody>\n",
              "    <tr>\n",
              "      <th>0</th>\n",
              "      <td>1.468627e+09</td>\n",
              "      <td>667.010196</td>\n",
              "      <td>669.99</td>\n",
              "      <td>662.01</td>\n",
              "      <td>667.48</td>\n",
              "    </tr>\n",
              "    <tr>\n",
              "      <th>1</th>\n",
              "      <td>1.474330e+09</td>\n",
              "      <td>608.817753</td>\n",
              "      <td>609.92</td>\n",
              "      <td>605.60</td>\n",
              "      <td>608.60</td>\n",
              "    </tr>\n",
              "    <tr>\n",
              "      <th>2</th>\n",
              "      <td>1.488154e+09</td>\n",
              "      <td>1189.531393</td>\n",
              "      <td>1198.99</td>\n",
              "      <td>1176.00</td>\n",
              "      <td>1184.91</td>\n",
              "    </tr>\n",
              "    <tr>\n",
              "      <th>3</th>\n",
              "      <td>1.475885e+09</td>\n",
              "      <td>618.950957</td>\n",
              "      <td>620.00</td>\n",
              "      <td>617.55</td>\n",
              "      <td>618.11</td>\n",
              "    </tr>\n",
              "    <tr>\n",
              "      <th>4</th>\n",
              "      <td>1.449533e+09</td>\n",
              "      <td>395.036331</td>\n",
              "      <td>418.94</td>\n",
              "      <td>386.69</td>\n",
              "      <td>394.73</td>\n",
              "    </tr>\n",
              "    <tr>\n",
              "      <th>...</th>\n",
              "      <td>...</td>\n",
              "      <td>...</td>\n",
              "      <td>...</td>\n",
              "      <td>...</td>\n",
              "      <td>...</td>\n",
              "    </tr>\n",
              "    <tr>\n",
              "      <th>245</th>\n",
              "      <td>1.487722e+09</td>\n",
              "      <td>1124.780081</td>\n",
              "      <td>1140.00</td>\n",
              "      <td>1104.90</td>\n",
              "      <td>1129.67</td>\n",
              "    </tr>\n",
              "    <tr>\n",
              "      <th>246</th>\n",
              "      <td>1.485216e+09</td>\n",
              "      <td>908.492474</td>\n",
              "      <td>923.00</td>\n",
              "      <td>880.00</td>\n",
              "      <td>911.78</td>\n",
              "    </tr>\n",
              "    <tr>\n",
              "      <th>247</th>\n",
              "      <td>1.471478e+09</td>\n",
              "      <td>575.128134</td>\n",
              "      <td>576.99</td>\n",
              "      <td>573.00</td>\n",
              "      <td>574.45</td>\n",
              "    </tr>\n",
              "    <tr>\n",
              "      <th>248</th>\n",
              "      <td>1.447200e+09</td>\n",
              "      <td>316.034258</td>\n",
              "      <td>341.75</td>\n",
              "      <td>293.32</td>\n",
              "      <td>337.14</td>\n",
              "    </tr>\n",
              "    <tr>\n",
              "      <th>249</th>\n",
              "      <td>1.450915e+09</td>\n",
              "      <td>455.087880</td>\n",
              "      <td>460.00</td>\n",
              "      <td>442.42</td>\n",
              "      <td>442.43</td>\n",
              "    </tr>\n",
              "  </tbody>\n",
              "</table>\n",
              "<p>250 rows × 5 columns</p>\n",
              "</div>\n",
              "      <button class=\"colab-df-convert\" onclick=\"convertToInteractive('df-123a59c3-5971-44e8-a371-be5c83839451')\"\n",
              "              title=\"Convert this dataframe to an interactive table.\"\n",
              "              style=\"display:none;\">\n",
              "        \n",
              "  <svg xmlns=\"http://www.w3.org/2000/svg\" height=\"24px\"viewBox=\"0 0 24 24\"\n",
              "       width=\"24px\">\n",
              "    <path d=\"M0 0h24v24H0V0z\" fill=\"none\"/>\n",
              "    <path d=\"M18.56 5.44l.94 2.06.94-2.06 2.06-.94-2.06-.94-.94-2.06-.94 2.06-2.06.94zm-11 1L8.5 8.5l.94-2.06 2.06-.94-2.06-.94L8.5 2.5l-.94 2.06-2.06.94zm10 10l.94 2.06.94-2.06 2.06-.94-2.06-.94-.94-2.06-.94 2.06-2.06.94z\"/><path d=\"M17.41 7.96l-1.37-1.37c-.4-.4-.92-.59-1.43-.59-.52 0-1.04.2-1.43.59L10.3 9.45l-7.72 7.72c-.78.78-.78 2.05 0 2.83L4 21.41c.39.39.9.59 1.41.59.51 0 1.02-.2 1.41-.59l7.78-7.78 2.81-2.81c.8-.78.8-2.07 0-2.86zM5.41 20L4 18.59l7.72-7.72 1.47 1.35L5.41 20z\"/>\n",
              "  </svg>\n",
              "      </button>\n",
              "      \n",
              "  <style>\n",
              "    .colab-df-container {\n",
              "      display:flex;\n",
              "      flex-wrap:wrap;\n",
              "      gap: 12px;\n",
              "    }\n",
              "\n",
              "    .colab-df-convert {\n",
              "      background-color: #E8F0FE;\n",
              "      border: none;\n",
              "      border-radius: 50%;\n",
              "      cursor: pointer;\n",
              "      display: none;\n",
              "      fill: #1967D2;\n",
              "      height: 32px;\n",
              "      padding: 0 0 0 0;\n",
              "      width: 32px;\n",
              "    }\n",
              "\n",
              "    .colab-df-convert:hover {\n",
              "      background-color: #E2EBFA;\n",
              "      box-shadow: 0px 1px 2px rgba(60, 64, 67, 0.3), 0px 1px 3px 1px rgba(60, 64, 67, 0.15);\n",
              "      fill: #174EA6;\n",
              "    }\n",
              "\n",
              "    [theme=dark] .colab-df-convert {\n",
              "      background-color: #3B4455;\n",
              "      fill: #D2E3FC;\n",
              "    }\n",
              "\n",
              "    [theme=dark] .colab-df-convert:hover {\n",
              "      background-color: #434B5C;\n",
              "      box-shadow: 0px 1px 3px 1px rgba(0, 0, 0, 0.15);\n",
              "      filter: drop-shadow(0px 1px 2px rgba(0, 0, 0, 0.3));\n",
              "      fill: #FFFFFF;\n",
              "    }\n",
              "  </style>\n",
              "\n",
              "      <script>\n",
              "        const buttonEl =\n",
              "          document.querySelector('#df-123a59c3-5971-44e8-a371-be5c83839451 button.colab-df-convert');\n",
              "        buttonEl.style.display =\n",
              "          google.colab.kernel.accessAllowed ? 'block' : 'none';\n",
              "\n",
              "        async function convertToInteractive(key) {\n",
              "          const element = document.querySelector('#df-123a59c3-5971-44e8-a371-be5c83839451');\n",
              "          const dataTable =\n",
              "            await google.colab.kernel.invokeFunction('convertToInteractive',\n",
              "                                                     [key], {});\n",
              "          if (!dataTable) return;\n",
              "\n",
              "          const docLinkHtml = 'Like what you see? Visit the ' +\n",
              "            '<a target=\"_blank\" href=https://colab.research.google.com/notebooks/data_table.ipynb>data table notebook</a>'\n",
              "            + ' to learn more about interactive tables.';\n",
              "          element.innerHTML = '';\n",
              "          dataTable['output_type'] = 'display_data';\n",
              "          await google.colab.output.renderOutput(dataTable, element);\n",
              "          const docLink = document.createElement('div');\n",
              "          docLink.innerHTML = docLinkHtml;\n",
              "          element.appendChild(docLink);\n",
              "        }\n",
              "      </script>\n",
              "    </div>\n",
              "  </div>\n",
              "  "
            ]
          },
          "metadata": {},
          "execution_count": 42
        }
      ]
    },
    {
      "cell_type": "code",
      "source": [
        "z_pred_reg = reg.predict(z)\n",
        "print(z_pred_reg)"
      ],
      "metadata": {
        "colab": {
          "base_uri": "https://localhost:8080/"
        },
        "id": "-Cyc0GOTxQE3",
        "outputId": "9b5b5b6d-70a1-41b1-8e4f-15a5bd2f99a4"
      },
      "execution_count": 43,
      "outputs": [
        {
          "output_type": "stream",
          "name": "stdout",
          "text": [
            "[  666.00355099   607.32616472  1189.23754199   618.64126951\n",
            "   410.69095863  5919.56139265  2718.55012582   434.93117044\n",
            "   607.31783358   732.1583904   1345.65056857   611.12719124\n",
            "   959.12243193  6377.19681066   458.7376683    433.53212267\n",
            "   715.34178618   604.88117018   585.70022275   792.02834972\n",
            "  1217.71049821   394.00618517   458.34454189   739.261264\n",
            "  1117.64062071   294.28794357   764.77563293   459.89095803\n",
            "   462.37820421   659.36322084  2593.10486186  2767.20416836\n",
            "   439.58057171   610.64780452   456.21537369 10489.00987844\n",
            "   776.97385578   256.69430559   433.86271625   415.03431488\n",
            "  6164.40796676   664.49117546   239.55186368   677.1328079\n",
            "   603.64448943  1244.75967817   611.12172859   584.57854961\n",
            "   986.19318801  3938.44428013  4208.76286356  1037.86110189\n",
            "  2555.21814163   575.12137738   418.61261386   672.59523865\n",
            "  4189.75969967   243.19235949  8243.52761393   238.15870086\n",
            "  2424.50371435   436.05806837   223.25020983   919.9013651\n",
            "   237.66324904   783.48166024   403.42290599   595.46792847\n",
            "  2955.06973409  1308.9725217    789.27652782  1371.02018165\n",
            "   237.92100424  2225.76408481  1180.91610606   413.00739949\n",
            "  2532.92770905  4262.53980762 19277.17913887   638.07914367\n",
            "   584.93004863   399.73407362   297.84440906   236.50741229\n",
            "  1761.8005421   8192.68430443   226.63774641   414.82010333\n",
            " 14624.72836498   402.45791959  3211.07448123  3438.33365988\n",
            "   421.71454354   567.18168067  1144.87199952   535.20306881\n",
            "   232.18293795  4238.27059789  4120.74840474   377.47021186\n",
            "   962.91814233   443.98405341   923.11976084   741.06377511\n",
            "  4121.94480188   286.20320641   432.8354297   4407.15839268\n",
            "  1748.3511702    614.52786585   226.26267306  4022.73013932\n",
            "  1206.90560711 16418.95364369  4258.6682315    586.79976477\n",
            "  2298.49030514   454.9110546  11467.5448884    237.67946534\n",
            "   275.67813976   432.21119425   757.22734085   325.25113593\n",
            "   227.81603311   366.43328793   428.02431914   731.41463709\n",
            "   225.99919602   384.67108679   408.60440213   267.62638169\n",
            "  2365.80582083   637.65062877  4290.78557861  2697.8382681\n",
            "   239.39278819   244.89995919  1078.89988939   663.6479494\n",
            "   579.49127727   600.57646477   650.16185853   578.28494471\n",
            "   266.81150887   914.41007014   430.43969454 16543.2760796\n",
            "   243.27758591  2600.55600929   592.65977097   278.07553554\n",
            "  1221.74381661   668.49903681  3743.05176789   612.53450968\n",
            "   289.5913935   1182.87467419  2421.31749421   657.33707244\n",
            "  2652.26498393   271.52344205   609.5492154   9889.9809706\n",
            "   622.95075579   442.28224623   419.37912092   279.57490851\n",
            " 16744.41326662  5696.31799484   420.47829815   261.72246551\n",
            "  7261.96634005   232.8575178    427.03752007   414.96592005\n",
            "   735.84075028  1277.61243093   411.26091009  1037.69369761\n",
            "   649.07317422   675.09970004  8084.95680154  2580.49602084\n",
            "   230.44442805   703.94132886   468.90569556  4569.70967379\n",
            "   373.95751343   470.38547751   677.89714887   241.62416113\n",
            "  4217.4451422    240.47556546   408.15775608   234.1787555\n",
            "  3892.41231924 14873.81634678   435.02617233   285.29435601\n",
            "   581.70740738   534.98767289   377.35029409   701.96983651\n",
            "  1022.06240424   234.13775572  3592.83069669   641.64099933\n",
            " 12951.35890141   421.44716949  8166.85458644  1013.39729749\n",
            "   246.7181189    426.90666256   733.96533932  4143.28060947\n",
            "   423.2334567    231.27868232   335.24552246   428.08183887\n",
            "   450.01113537  7691.49278073   657.86212616   708.54533023\n",
            "  2591.61304438   769.95966064   238.91073097   394.3633977\n",
            "  4338.31084499   731.55682937   432.47886185   428.18707032\n",
            "  1127.558464    1186.70405965   241.6055241   1850.68207212\n",
            "   235.18240586  1105.24671403   539.21517209   260.09132292\n",
            "   609.57373075   968.81530327   886.25351512  1802.22016943\n",
            "   681.46956123  1122.71345864   901.23640403   575.20412663\n",
            "   318.28895415   455.66651549]\n"
          ]
        }
      ]
    },
    {
      "cell_type": "code",
      "source": [
        "z_pred_clf = clf.predict(z)\n",
        "print(z_pred_clf)"
      ],
      "metadata": {
        "colab": {
          "base_uri": "https://localhost:8080/"
        },
        "id": "rdFkhwWQxVE5",
        "outputId": "f4303c10-81f2-4bde-af77-c811652d64e9"
      },
      "execution_count": 44,
      "outputs": [
        {
          "output_type": "stream",
          "name": "stdout",
          "text": [
            "[630.70990876 630.79162106 630.98967669 630.81390592 630.43638643\n",
            " 631.28272394 631.17768837 630.53042036 630.80400159 630.86713967\n",
            " 631.06391472 630.77181204 630.92531922 631.29383994 630.44999398\n",
            " 630.4710257  630.84980821 630.79904939 630.65791213 630.90303865\n",
            " 631.04412043 630.49700899 630.63191535 630.87085348 630.98225158\n",
            " 630.25465266 630.88323266 630.44504567 630.63315326 630.72105124\n",
            " 631.12575817 631.17027089 630.45494242 630.77428817 630.63067744\n",
            " 631.33211963 630.89808724 630.36960099 630.45865384 630.55888527\n",
            " 631.29136981 630.71609902 630.34858173 630.71114681 630.79657328\n",
            " 631.05772922 630.81142985 630.66038808 630.96863833 631.23454216\n",
            " 631.25307594 631.01566283 631.12823144 630.76562169 630.53289545\n",
            " 630.67895798 631.20859023 630.16697041 631.3210076  630.17931565\n",
            " 631.12452152 630.60096866 630.15709531 630.95502441 630.15215814\n",
            " 630.89561151 630.52052022 630.74086027 631.11833814 631.06144055\n",
            " 630.90180081 631.06638887 630.18178488 631.10349707 630.98472664\n",
            " 630.54898411 631.13936066 631.23207078 631.35063702 630.72847961\n",
            " 630.735908   630.54650887 630.27195018 630.30037281 631.07875911\n",
            " 631.3185381  630.14598701 630.55145937 631.37161915 630.49453426\n",
            " 631.18634159 631.19004996 630.58363957 630.74705062 631.03422256\n",
            " 630.65419823 630.155861   631.23083507 631.20488238 630.51062048\n",
            " 630.91789252 630.44380861 630.95254909 630.86342583 631.19870241\n",
            " 630.38320323 630.54032087 631.26419483 631.08494393 630.80523963\n",
            " 630.20277567 631.20611834 631.04040878 631.3568087  631.23330648\n",
            " 630.74333641 631.16408936 630.61582279 631.33458881 630.16326714\n",
            " 630.2447695  630.59849302 630.88570846 630.41783229 630.14968964\n",
            " 630.4302015  630.59230401 630.87828103 630.20524545 630.43267545\n",
            " 630.39309651 630.28677858 631.15790757 630.82257214 631.26172405\n",
            " 631.11957483 630.18301951 630.22500572 631.02927345 630.70619461\n",
            " 630.6591501  630.79533523 630.83247628 630.66410202 630.23735768\n",
            " 630.95007374 630.46855127 631.37532142 630.32138487 631.14925263\n",
            " 630.73838414 630.26453665 631.04288322 630.70495657 631.24689833\n",
            " 630.72971767 630.24971097 631.00081395 631.09607605 630.72476542\n",
            " 631.11091777 630.28925015 630.790383   631.32841576 630.77800237\n",
            " 630.63934287 630.55269701 630.26577221 631.37655548 631.27531266\n",
            " 630.58735288 630.23859295 631.30495481 630.20030595 630.5947796\n",
            " 630.57002447 630.84485628 631.06020344 630.48958488 631.02803616\n",
            " 630.83371429 630.69752833 631.31977286 631.1220482  630.34116388\n",
            " 630.84609426 631.04783201 631.21600561 630.50567075 630.64800845\n",
            " 630.71238486 630.18919291 631.19746638 630.19042764 630.56259829\n",
            " 630.3374551  631.23824914 631.341996   630.46978848 630.28183558\n",
            " 630.75695519 630.65296027 630.48834755 630.84857023 630.9203681\n",
            " 630.33869135 631.23701349 630.82381016 631.35804298 630.58611511\n",
            " 631.32347704 630.96987592 630.32385709 630.59354181 630.87704311\n",
            " 631.25184044 630.53413301 630.29913691 630.40670074 630.5316579\n",
            " 630.62077428 631.31606854 630.71733707 630.85723604 631.09731291\n",
            " 630.89066002 630.19660147 630.49577162 631.25678235 630.87456727\n",
            " 630.59973084 630.46483968 631.03545982 631.00452626 630.16573597\n",
            " 631.07999609 630.15462669 631.03174802 630.73095574 630.29666515\n",
            " 630.7804785  630.91541691 630.93893444 631.08741779 630.69133817\n",
            " 630.98348911 630.94759838 630.75076484 630.40299038 630.45617955]\n"
          ]
        }
      ]
    },
    {
      "cell_type": "code",
      "source": [
        "z_pred_clf2 = clf2.predict(z)\n",
        "print(z_pred_clf2)"
      ],
      "metadata": {
        "colab": {
          "base_uri": "https://localhost:8080/"
        },
        "id": "QEFaBW_Gxcur",
        "outputId": "96a4e917-e473-462e-b8c4-404ac53b83e7"
      },
      "execution_count": 45,
      "outputs": [
        {
          "output_type": "stream",
          "name": "stdout",
          "text": [
            "[1.40371146e+27 1.40916180e+27 1.42237476e+27 1.41064826e+27\n",
            " 1.38546106e+27 1.44194645e+27 1.43492707e+27 1.39173722e+27\n",
            " 1.40998761e+27 1.41419924e+27 1.42732962e+27 1.40784051e+27\n",
            " 1.41808055e+27 1.44268968e+27 1.38636945e+27 1.38777333e+27\n",
            " 1.41304311e+27 1.40965729e+27 1.40024306e+27 1.41659409e+27\n",
            " 1.42600832e+27 1.38950753e+27 1.39850886e+27 1.41444699e+27\n",
            " 1.42187927e+27 1.37332166e+27 1.41527280e+27 1.38603913e+27\n",
            " 1.39859144e+27 1.40445469e+27 1.43145867e+27 1.43443158e+27\n",
            " 1.38669978e+27 1.40800567e+27 1.39842628e+27 1.44524969e+27\n",
            " 1.41626377e+27 1.38100169e+27 1.38694752e+27 1.39363658e+27\n",
            " 1.44252452e+27 1.40412436e+27 1.37959781e+27 1.40379404e+27\n",
            " 1.40949213e+27 1.42691671e+27 1.41048310e+27 1.40040822e+27\n",
            " 1.42097088e+27 1.43872579e+27 1.43996451e+27 1.42410896e+27\n",
            " 1.43162383e+27 1.40742760e+27 1.39190238e+27 1.40164693e+27\n",
            " 1.43699159e+27 1.36745841e+27 1.44450646e+27 1.36828422e+27\n",
            " 1.43137609e+27 1.39644433e+27 1.36679776e+27 1.42006249e+27\n",
            " 1.36646744e+27 1.41609861e+27 1.39107657e+27 1.40577598e+27\n",
            " 1.43096318e+27 1.42716446e+27 1.41651151e+27 1.42749478e+27\n",
            " 1.36844938e+27 1.42997221e+27 1.42204444e+27 1.39297593e+27\n",
            " 1.43236706e+27 1.43856063e+27 1.44648840e+27 1.40495017e+27\n",
            " 1.40544566e+27 1.39281077e+27 1.37447779e+27 1.37637716e+27\n",
            " 1.42832059e+27 1.44434130e+27 1.36605453e+27 1.39314109e+27\n",
            " 1.44789228e+27 1.38934237e+27 1.43550514e+27 1.43575288e+27\n",
            " 1.39528820e+27 1.40618889e+27 1.42534767e+27 1.39999531e+27\n",
            " 1.36671518e+27 1.43847805e+27 1.43674385e+27 1.39041592e+27\n",
            " 1.41758506e+27 1.38595655e+27 1.41989733e+27 1.41395150e+27\n",
            " 1.43633094e+27 1.38191008e+27 1.39239786e+27 1.44070774e+27\n",
            " 1.42873350e+27 1.41007019e+27 1.36985326e+27 1.43682643e+27\n",
            " 1.42576058e+27 1.44690131e+27 1.43864321e+27 1.40594115e+27\n",
            " 1.43401868e+27 1.39743530e+27 1.44541485e+27 1.36721067e+27\n",
            " 1.37266101e+27 1.39627917e+27 1.41543796e+27 1.38422235e+27\n",
            " 1.36630228e+27 1.38504816e+27 1.39586627e+27 1.41494247e+27\n",
            " 1.37001842e+27 1.38521332e+27 1.38257073e+27 1.37546876e+27\n",
            " 1.43360577e+27 1.41122633e+27 1.44054257e+27 1.43104576e+27\n",
            " 1.36853196e+27 1.37133972e+27 1.42501735e+27 1.40346372e+27\n",
            " 1.40032564e+27 1.40940955e+27 1.41188698e+27 1.40065596e+27\n",
            " 1.37216553e+27 1.41973217e+27 1.38760817e+27 1.44814002e+27\n",
            " 1.37778103e+27 1.43302771e+27 1.40561082e+27 1.37398231e+27\n",
            " 1.42592574e+27 1.40338113e+27 1.43955160e+27 1.40503275e+27\n",
            " 1.37299134e+27 1.42311799e+27 1.42947672e+27 1.40470243e+27\n",
            " 1.43046770e+27 1.37563393e+27 1.40907922e+27 1.44500195e+27\n",
            " 1.40825341e+27 1.39900434e+27 1.39322367e+27 1.37406489e+27\n",
            " 1.44822261e+27 1.44145097e+27 1.39553594e+27 1.37224811e+27\n",
            " 1.44343291e+27 1.36968810e+27 1.39603143e+27 1.39437981e+27\n",
            " 1.41271279e+27 1.42708188e+27 1.38901204e+27 1.42493477e+27\n",
            " 1.41196956e+27 1.40288565e+27 1.44442388e+27 1.43121092e+27\n",
            " 1.37910233e+27 1.41279537e+27 1.42625607e+27 1.43748708e+27\n",
            " 1.39008560e+27 1.39958241e+27 1.40387662e+27 1.36894487e+27\n",
            " 1.43624836e+27 1.36902745e+27 1.39388432e+27 1.37885458e+27\n",
            " 1.43897354e+27 1.44591034e+27 1.38769075e+27 1.37513844e+27\n",
            " 1.40684954e+27 1.39991273e+27 1.38892946e+27 1.41296053e+27\n",
            " 1.41775022e+27 1.37893717e+27 1.43889096e+27 1.41130891e+27\n",
            " 1.44698389e+27 1.39545336e+27 1.44467162e+27 1.42105346e+27\n",
            " 1.37794619e+27 1.39594885e+27 1.41485989e+27 1.43988193e+27\n",
            " 1.39198496e+27 1.37629457e+27 1.38347912e+27 1.39181980e+27\n",
            " 1.39776563e+27 1.44417614e+27 1.40420694e+27 1.41353860e+27\n",
            " 1.42955930e+27 1.41576828e+27 1.36944035e+27 1.38942495e+27\n",
            " 1.44021225e+27 1.41469473e+27 1.39636175e+27 1.38736043e+27\n",
            " 1.42543026e+27 1.42336573e+27 1.36737583e+27 1.42840317e+27\n",
            " 1.36663260e+27 1.42518251e+27 1.40511534e+27 1.37612941e+27\n",
            " 1.40841857e+27 1.41741990e+27 1.41898894e+27 1.42889866e+27\n",
            " 1.40247274e+27 1.42196185e+27 1.41956701e+27 1.40643663e+27\n",
            " 1.38323138e+27 1.38678236e+27]\n"
          ]
        }
      ]
    },
    {
      "cell_type": "code",
      "source": [
        "z_pred_clf3 = clf3.predict(z)\n",
        "z_pred_clf3"
      ],
      "metadata": {
        "colab": {
          "base_uri": "https://localhost:8080/"
        },
        "id": "VE7Gnmy9x2n5",
        "outputId": "f4584c74-de45-4e5f-c4cc-2f83eef5824b"
      },
      "execution_count": 46,
      "outputs": [
        {
          "output_type": "execute_result",
          "data": {
            "text/plain": [
              "array([  666.06561769,   607.41995304,  1189.3667747 ,   618.72631154,\n",
              "         410.48747324,  5919.3914518 ,  2718.4311918 ,   434.95355157,\n",
              "         607.3807137 ,   732.34656094,  1345.68411005,   611.16453238,\n",
              "         958.68130027,  6376.11295757,   458.78131021,   433.52629397,\n",
              "         715.43291556,   604.9774883 ,   585.65832602,   792.14083764,\n",
              "        1217.82618711,   394.0124095 ,   458.37573203,   739.36848469,\n",
              "        1117.64779984,   294.19395014,   764.86633954,   459.90838597,\n",
              "         462.39657696,   659.38813098,  2593.07899877,  2767.29372282,\n",
              "         439.5928913 ,   610.70697196,   456.25207951, 10486.21087228,\n",
              "         777.09123272,   256.65976551,   433.78553312,   415.05419085,\n",
              "        6161.51526826,   664.54887282,   239.52992919,   677.15141405,\n",
              "         603.72621316,  1244.91270863,   611.21641176,   584.63739523,\n",
              "         986.23879365,  3937.62292257,  4208.6150617 ,  1038.02828083,\n",
              "        2555.47866532,   575.19571192,   418.66979424,   672.68230177,\n",
              "        4189.59695557,   243.08536215,  8243.45359338,   238.08158537,\n",
              "        2425.05096319,   436.02844533,   223.1107032 ,   920.02816682,\n",
              "         237.56739729,   783.55024924,   403.4190982 ,   595.51416014,\n",
              "        2954.84780276,  1308.9783738 ,   789.38897922,  1370.88079415,\n",
              "         237.84179854,  2226.41980416,  1180.70710312,   413.01524071,\n",
              "        2532.89775469,  4261.99950281, 19269.89537051,   638.08460306,\n",
              "         584.95466815,   399.81607848,   297.77839997,   236.46312078,\n",
              "        1762.0538004 ,  8192.21389246,   226.52229209,   414.82712855,\n",
              "       14617.49209835,   402.44225785,  3211.66162778,  3438.32279016,\n",
              "         421.75016537,   567.26664798,  1145.0232075 ,   535.23883085,\n",
              "         232.06698784,  4238.15607644,  4120.4233137 ,   377.42677599,\n",
              "         962.98549888,   443.98449863,   923.23773563,   741.19896728,\n",
              "        4122.39551648,   286.17136643,   432.85099142,  4406.4929269 ,\n",
              "        1748.36860162,   614.62055509,   226.18260486,  4022.81196413,\n",
              "        1206.90209781, 16417.85239126,  4258.98281029,   586.87170643,\n",
              "        2298.51252169,   454.9570873 , 11467.64275275,   237.58068141,\n",
              "         275.58704151,   432.24569055,   757.25601149,   325.21787165,\n",
              "         227.70806309,   366.39103985,   428.05017099,   731.51723978,\n",
              "         225.92554289,   384.59261474,   408.41107253,   267.56564453,\n",
              "        2365.84384336,   637.7541301 ,  4290.65355858,  2699.12946458,\n",
              "         239.29925143,   244.8201278 ,  1078.92076268,   663.70427704,\n",
              "         579.523695  ,   600.64923848,   650.267339  ,   578.32541072,\n",
              "         266.7346046 ,   914.50466037,   430.43626394, 16536.74479233,\n",
              "         243.23492775,  2600.56633234,   592.71924885,   278.01072164,\n",
              "        1221.80326171,   668.46368851,  3743.43923441,   612.68404691,\n",
              "         289.48628166,  1183.04208517,  2421.19800252,   657.39013292,\n",
              "        2652.06764485,   271.4270792 ,   609.62287082,  9890.49262798,\n",
              "         623.00052745,   442.35869712,   419.4029849 ,   279.49935715,\n",
              "       16741.91951679,  5696.11094183,   420.5346542 ,   261.62349007,\n",
              "        7260.89708796,   232.78663308,   427.05275155,   414.99819843,\n",
              "         735.78432845,  1277.75548242,   411.08832285,  1037.82844793,\n",
              "         649.15004975,   675.16185717,  8086.11816517,  2581.82549064,\n",
              "         230.42121428,   704.25904734,   479.14793455,  4568.84325295,\n",
              "         373.95917545,   470.50523729,   677.95886387,   241.51429979,\n",
              "        4217.58835535,   240.39695441,   408.18166747,   234.13080196,\n",
              "        3891.29516344, 14880.70397819,   435.01235832,   285.22068176,\n",
              "         581.78657116,   535.02622326,   377.39640682,   702.09965084,\n",
              "        1022.13445319,   234.08816307,  3591.87958197,   641.7370108 ,\n",
              "       12958.59866542,   421.47614909,  8167.86002496,  1013.56533659,\n",
              "         246.66054058,   426.92891755,   734.03444693,  4142.72106344,\n",
              "         423.24272345,   231.31637612,   335.21172638,   428.04570934,\n",
              "         450.04331618,  7691.83689837,   657.96894733,   708.63043297,\n",
              "        2592.82277848,   770.06559274,   238.82487354,   394.37135425,\n",
              "        4337.92765415,   731.67728108,   432.48436506,   428.17372809,\n",
              "        1127.68676555,  1187.07082959,   241.52686839,  1850.83942046,\n",
              "         235.05713207,  1105.27863724,   539.99275147,   260.03014391,\n",
              "         609.80175649,   968.94143407,   886.49750876,  1802.7070179 ,\n",
              "         681.50555117,  1122.83281727,   901.43720921,   575.26978366,\n",
              "         318.17539102,   455.71316759])"
            ]
          },
          "metadata": {},
          "execution_count": 46
        }
      ]
    },
    {
      "cell_type": "code",
      "source": [
        "z_pred_clf4 = clf4.predict(z)\n",
        "z_pred_clf4"
      ],
      "metadata": {
        "colab": {
          "base_uri": "https://localhost:8080/"
        },
        "id": "iv2siSJ9x6A8",
        "outputId": "850fd82e-5f54-4e5f-bd7d-4bf311c22637"
      },
      "execution_count": 47,
      "outputs": [
        {
          "output_type": "execute_result",
          "data": {
            "text/plain": [
              "array([  677.33442277,   619.21400154,  1196.27172585,   629.99189351,\n",
              "         418.10609003,  5918.68968096,  2730.41325665,   448.00500818,\n",
              "         618.42697139,   747.81998778,  1353.10217791,   620.06215985,\n",
              "         976.28382684,  6286.36563436,   471.94705572,   445.66402082,\n",
              "         724.33823949,   615.79201938,   593.30501002,   802.24130112,\n",
              "        1226.88643417,   405.82942104,   470.42395394,   751.77937463,\n",
              "        1119.15698813,   306.38194532,   776.48051243,   468.34325519,\n",
              "         473.64981518,   670.53522444,  2565.71908209,  2777.92430459,\n",
              "         450.4515573 ,   620.94113254,   468.48857253, 10286.60979773,\n",
              "         787.76944191,   268.94817348,   450.54970293,   427.48323277,\n",
              "        6028.03461519,   676.07377693,   251.41408574,   685.34080297,\n",
              "         615.0402914 ,  1253.02092858,   623.16615631,   593.95970825,\n",
              "         996.77139573,  3974.45809026,  4193.20840762,  1042.90795435,\n",
              "        2546.05756325,   586.37427563,   431.58766235,   691.54778367,\n",
              "        4154.10555055,   255.29609347,  8173.00497115,   250.73283718,\n",
              "        2424.0073255 ,   446.82711382,   236.68462078,   928.90878389,\n",
              "         249.9909054 ,   792.84293365,   412.91224708,   604.88633669,\n",
              "        2943.90664108,  1309.17150887,   799.73687084,  1374.88807307,\n",
              "         250.75117113,  2242.66126932,  1175.40196871,   425.1377033 ,\n",
              "        2540.41528259,  4243.86160122, 18773.57307197,   653.03022205,\n",
              "         595.82419443,   411.80372774,   309.56301718,   247.55956679,\n",
              "        1757.51362766,  8114.33523241,   239.96522829,   426.61371817,\n",
              "       14242.14629393,   411.10247715,  3129.04854206,  3421.62620385,\n",
              "         433.63410374,   580.76882355,  1155.00439847,   546.01689464,\n",
              "         244.67608135,  4246.65081839,  4114.98417199,   391.28599565,\n",
              "         971.73249002,   453.63051525,   932.74579433,   751.39671535,\n",
              "        4158.68969361,   298.78620578,   445.87376716,  4379.01178492,\n",
              "        1763.84223838,   624.82569912,   238.56246579,  4018.21228796,\n",
              "        1208.95623917, 16339.71779259,  4237.02749753,   598.64188514,\n",
              "        2284.56606358,   466.98679656, 11287.27406175,   250.19022035,\n",
              "         287.4197436 ,   444.90144563,   769.90954271,   337.50264451,\n",
              "         239.67344289,   377.26329714,   439.42845086,   741.98460417,\n",
              "         238.91835445,   391.94431474,   409.89613701,   279.14063586,\n",
              "        2369.81883463,   649.20023623,  4259.66269297,  2772.37474046,\n",
              "         251.52140521,   258.02657357,  1078.75833844,   675.23100291,\n",
              "         590.16016112,   611.05792258,   662.22076111,   590.83821565,\n",
              "         277.394963  ,   920.03662296,   443.67293131, 16094.82549241,\n",
              "         254.73771347,  2602.20768895,   604.69679455,   290.58370466,\n",
              "        1226.48260886,   674.99716928,  3707.92293614,   627.75533922,\n",
              "         297.48331085,  1203.73394908,  2386.22632194,   668.258358  ,\n",
              "        2619.12655098,   282.61677632,   621.43007794,  9815.25035422,\n",
              "         635.32142355,   453.85585881,   430.97017276,   291.80961246,\n",
              "       16683.07321357,  5671.97456825,   433.39272422,   274.78356373,\n",
              "        7269.56928449,   245.95504922,   438.97118013,   426.93640048,\n",
              "         744.54081752,  1280.3988746 ,   414.3798182 ,  1048.00953521,\n",
              "         660.75406175,   684.83279353,  8093.25418563,  2616.78381543,\n",
              "         243.01535689,   725.66423952,   706.4035546 ,  4507.65135969,\n",
              "         385.87217051,   479.55766767,   689.30317549,   252.92452393,\n",
              "        4170.35453913,   253.28275781,   420.94015572,   247.18061272,\n",
              "        3840.95144087, 15177.018374  ,   446.3163319 ,   297.94434638,\n",
              "         594.17842581,   546.18176817,   391.82221822,   714.11156743,\n",
              "        1024.25990912,   246.93477452,  3502.13257496,   652.2456744 ,\n",
              "       13573.25644308,   433.81154641,  8103.70051731,  1020.22008733,\n",
              "         258.44612585,   439.42271562,   743.52122501,  4069.39343691,\n",
              "         435.62352471,   242.84343535,   348.42746803,   442.17906319,\n",
              "         461.91322138,  7663.35551133,   671.35530028,   721.27143357,\n",
              "        2562.04401005,   780.11061435,   251.34487096,   408.77345905,\n",
              "        4322.57075403,   744.33673535,   444.33585211,   440.19030742,\n",
              "        1139.73701329,  1179.40720604,   253.13644334,  1842.0103916 ,\n",
              "         247.92461648,  1110.26057486,   570.6326002 ,   272.72275492,\n",
              "         625.23104903,   981.34810778,   885.33259932,  1802.90052454,\n",
              "         690.41451454,  1132.71623574,   914.04360754,   586.66102058,\n",
              "         334.80431269,   464.91905275])"
            ]
          },
          "metadata": {},
          "execution_count": 47
        }
      ]
    },
    {
      "cell_type": "code",
      "source": [
        "z_pred_clf4.shape"
      ],
      "metadata": {
        "colab": {
          "base_uri": "https://localhost:8080/"
        },
        "id": "JhiLoSD9x9A3",
        "outputId": "89508ca5-2589-4b6c-b0bc-02776f6c2b00"
      },
      "execution_count": 48,
      "outputs": [
        {
          "output_type": "execute_result",
          "data": {
            "text/plain": [
              "(250,)"
            ]
          },
          "metadata": {},
          "execution_count": 48
        }
      ]
    },
    {
      "cell_type": "markdown",
      "source": [
        "Using MinMaxScalar "
      ],
      "metadata": {
        "id": "hhYi-ihmNFjp"
      }
    },
    {
      "cell_type": "code",
      "source": [
        "X1 = df_sort.drop(columns=['close'])\n",
        "X = X1.drop(columns=['date'])\n",
        "\n",
        "y = df_sort['close']"
      ],
      "metadata": {
        "id": "q9pv7F6FyAxa"
      },
      "execution_count": 61,
      "outputs": []
    },
    {
      "cell_type": "code",
      "source": [
        ""
      ],
      "metadata": {
        "id": "Rq6yARB_eyBD"
      },
      "execution_count": 61,
      "outputs": []
    },
    {
      "cell_type": "code",
      "source": [
        "from sklearn.preprocessing import MinMaxScaler\n",
        "from sklearn.model_selection import KFold\n",
        "scaler = MinMaxScaler(feature_range=(0, 1))\n",
        "X = scaler.fit_transform(X)"
      ],
      "metadata": {
        "id": "vOZjza8WyVC8"
      },
      "execution_count": 62,
      "outputs": []
    },
    {
      "cell_type": "code",
      "source": [
        "from sklearn.svm import SVR\n",
        "scores = []\n",
        "best_svr = SVR(kernel='rbf')\n",
        "cv = KFold(n_splits=10, random_state=42, shuffle=True)\n",
        "for train_index, test_index in cv.split(X):\n",
        "    X_train, X_test, y_train, y_test = X[train_index], X[test_index], y[train_index], y[test_index]\n",
        "    best_svr.fit(X_train, y_train)\n",
        "    scores.append(best_svr.score(X_test, y_test))"
      ],
      "metadata": {
        "id": "BKCdOoJGyhw4"
      },
      "execution_count": 63,
      "outputs": []
    },
    {
      "cell_type": "code",
      "source": [
        ""
      ],
      "metadata": {
        "id": "lECF00QgPOSr"
      },
      "execution_count": 63,
      "outputs": []
    },
    {
      "cell_type": "code",
      "source": [
        "y_pred_clf1 = best_svr.predict(X_test)"
      ],
      "metadata": {
        "id": "0wYv2ldky1z_"
      },
      "execution_count": 64,
      "outputs": []
    },
    {
      "cell_type": "code",
      "source": [
        "print(\"MAE\",mean_absolute_error(y_test,y_pred_clf1))\n",
        "print(\"MSE\",mean_squared_error(y_test,y_pred_clf1))\n",
        "print(\"RMSE\",np.sqrt(mean_squared_error(y_test,y_pred_clf1)))\n",
        "print(\"MAPE\",mean_absolute_percentage_error(y_test,y_pred_clf1))\n",
        "r2 = r2_score(y_test,y_pred_clf1)\n",
        "print(\"r2 value: \",r2)"
      ],
      "metadata": {
        "colab": {
          "base_uri": "https://localhost:8080/"
        },
        "id": "BOHBqEzLzBHK",
        "outputId": "cdd43dc7-ec70-4b67-ac17-f38ca9737f22"
      },
      "execution_count": 65,
      "outputs": [
        {
          "output_type": "stream",
          "name": "stdout",
          "text": [
            "MAE 1787.8441269049626\n",
            "MSE 18368257.230363715\n",
            "RMSE 4285.820485083774\n",
            "MAPE 0.6752351238931389\n",
            "r2 value:  -0.15092834531874688\n"
          ]
        }
      ]
    },
    {
      "cell_type": "code",
      "source": [
        "reg = linear_model.LinearRegression()\n",
        "# train the model using the training sets\n",
        "reg.fit(X_train, y_train)\n",
        "y_pred_reg = reg.predict(X_test)\n",
        "print(\"MAE\",mean_absolute_error(y_test,y_pred_reg))\n",
        "print(\"MSE\",mean_squared_error(y_test,y_pred_reg))\n",
        "print(\"RMSE\",np.sqrt(mean_squared_error(y_test,y_pred_reg)))\n",
        "print(\"MAPE\",mean_absolute_percentage_error(y_test,y_pred_reg))\n",
        "r2 = r2_score(y_test,y_pred_reg)\n",
        "print(\"r2 value: \",r2)"
      ],
      "metadata": {
        "colab": {
          "base_uri": "https://localhost:8080/"
        },
        "id": "7HwbejD4Pgkz",
        "outputId": "edcea375-4045-4047-91d3-fe05b00d2de9"
      },
      "execution_count": 66,
      "outputs": [
        {
          "output_type": "stream",
          "name": "stdout",
          "text": [
            "MAE 2294.5992182333143\n",
            "MSE 16171211.057300394\n",
            "RMSE 4021.3444340544115\n",
            "MAPE 2.5931961665558747\n",
            "r2 value:  -0.013264620075795097\n"
          ]
        }
      ]
    },
    {
      "cell_type": "code",
      "source": [
        "clf2 = linear_model.SGDRegressor()\n",
        "clf2.fit(X_train, y_train)\n",
        "print(\"SGD Regressor\") "
      ],
      "metadata": {
        "colab": {
          "base_uri": "https://localhost:8080/"
        },
        "id": "YLekqQvGzHY_",
        "outputId": "3e06f1ce-ef76-480b-88b1-146a2c06b7dc"
      },
      "execution_count": 55,
      "outputs": [
        {
          "output_type": "stream",
          "name": "stdout",
          "text": [
            "SGD Regressor\n"
          ]
        }
      ]
    },
    {
      "cell_type": "code",
      "source": [
        "y_pred_clf2 = clf2.predict(X_test)"
      ],
      "metadata": {
        "id": "s7YE2tFW0NrH"
      },
      "execution_count": 56,
      "outputs": []
    },
    {
      "cell_type": "code",
      "source": [
        "print(\"MAE\",mean_absolute_error(y_test,y_pred_clf2))\n",
        "print(\"MSE\",mean_squared_error(y_test,y_pred_clf2))\n",
        "print(\"RMSE\",np.sqrt(mean_squared_error(y_test,y_pred_clf2)))\n",
        "print(\"MAPE\",mean_absolute_error(y_test,y_pred_clf2))\n",
        "r2 = r2_score(y_test,y_pred_clf2)\n",
        "print(\"r2 value: \",r2)"
      ],
      "metadata": {
        "colab": {
          "base_uri": "https://localhost:8080/"
        },
        "id": "T-x-fGnf0bCD",
        "outputId": "40be89dc-9702-41b3-e544-8720cbe6f84c"
      },
      "execution_count": 57,
      "outputs": [
        {
          "output_type": "stream",
          "name": "stdout",
          "text": [
            "MAE 2274.4695366104806\n",
            "MSE 16221528.53941834\n",
            "RMSE 4027.5958758815837\n",
            "MAPE 2274.4695366104806\n",
            "r2 value:  -0.016417440493557978\n"
          ]
        }
      ]
    },
    {
      "cell_type": "code",
      "source": [
        "clf3 = linear_model.BayesianRidge()\n",
        "clf3.fit(X_train, y_train)\n",
        "print(\"BayesianRidge\")\n",
        "print('r2 value: {}'.format(clf3.score(X_test, y_test))) "
      ],
      "metadata": {
        "colab": {
          "base_uri": "https://localhost:8080/"
        },
        "id": "53aIChgL1Umn",
        "outputId": "d773175a-a7fd-499e-bcb8-f9c62ada1f26"
      },
      "execution_count": 59,
      "outputs": [
        {
          "output_type": "stream",
          "name": "stdout",
          "text": [
            "BayesianRidge\n",
            "r2 value: -0.007575407367865328\n"
          ]
        }
      ]
    },
    {
      "cell_type": "code",
      "source": [
        "clf4 = linear_model.LassoLars()\n",
        "clf4.fit(X_train, y_train)\n",
        "print(\"Lassolars\")\n",
        "print('r2 value: {}'.format(clf4.score(X_test, y_test))) "
      ],
      "metadata": {
        "colab": {
          "base_uri": "https://localhost:8080/"
        },
        "id": "nPSU3bG41iDi",
        "outputId": "97f8fc49-00e2-42ff-c50a-6bbebe369f67"
      },
      "execution_count": 60,
      "outputs": [
        {
          "output_type": "stream",
          "name": "stdout",
          "text": [
            "Lassolars\n",
            "r2 value: -0.010219472413870445\n"
          ]
        },
        {
          "output_type": "stream",
          "name": "stderr",
          "text": [
            "/usr/local/lib/python3.7/dist-packages/sklearn/linear_model/_base.py:138: FutureWarning: The default of 'normalize' will be set to False in version 1.2 and deprecated in version 1.4.\n",
            "If you wish to scale the data, use Pipeline with a StandardScaler in a preprocessing stage. To reproduce the previous behavior:\n",
            "\n",
            "from sklearn.pipeline import make_pipeline\n",
            "\n",
            "model = make_pipeline(StandardScaler(with_mean=False), LassoLars())\n",
            "\n",
            "If you wish to pass a sample_weight parameter, you need to pass it as a fit parameter to each step of the pipeline as follows:\n",
            "\n",
            "kwargs = {s[0] + '__sample_weight': sample_weight for s in model.steps}\n",
            "model.fit(X, y, **kwargs)\n",
            "\n",
            "Set parameter alpha to: original_alpha * np.sqrt(n_samples). \n",
            "  FutureWarning,\n"
          ]
        }
      ]
    },
    {
      "cell_type": "code",
      "source": [
        ""
      ],
      "metadata": {
        "id": "8tf-alDl1s1i"
      },
      "execution_count": 60,
      "outputs": []
    },
    {
      "cell_type": "markdown",
      "source": [
        "It is observed that applying MinMaxScalar results in reducing the r2 value and hence increasing the error values."
      ],
      "metadata": {
        "id": "VbXWfgBTOwuV"
      }
    },
    {
      "cell_type": "code",
      "source": [
        ""
      ],
      "metadata": {
        "id": "t86wTCaZ10-6"
      },
      "execution_count": 60,
      "outputs": []
    },
    {
      "cell_type": "code",
      "source": [
        ""
      ],
      "metadata": {
        "id": "S1s2I4zx14ro"
      },
      "execution_count": 60,
      "outputs": []
    }
  ]
}